{
 "cells": [
  {
   "cell_type": "code",
   "execution_count": 20,
   "metadata": {},
   "outputs": [],
   "source": [
    "from sympy import *\n",
    "init_printing()"
   ]
  },
  {
   "cell_type": "code",
   "execution_count": 21,
   "metadata": {},
   "outputs": [],
   "source": [
    "x, y, z, lam, mu = symbols('x y z lam mu')"
   ]
  },
  {
   "cell_type": "code",
   "execution_count": 22,
   "metadata": {},
   "outputs": [],
   "source": [
    "u = Array([cos(pi * x) * cos(pi * y), 0.0])\n",
    "I = Array([[1, 0], [0, 1]])"
   ]
  },
  {
   "cell_type": "code",
   "execution_count": 23,
   "metadata": {},
   "outputs": [],
   "source": [
    "Ju = permutedims(derive_by_array(u, [x, y]), (1, 0))"
   ]
  },
  {
   "cell_type": "code",
   "execution_count": 24,
   "metadata": {},
   "outputs": [],
   "source": [
    "strain = 0.5 * simplify(Ju + Ju.transpose())\n",
    "stress = simplify(lam * tensorcontraction(strain, (0, 1)) * I + 2.0 * mu * strain)"
   ]
  },
  {
   "cell_type": "code",
   "execution_count": 27,
   "metadata": {},
   "outputs": [
    {
     "data": {
      "text/latex": [
       "$$\\left[\\begin{matrix}\\pi^{2} \\left(1.0 lam + 3.0 \\mu\\right) \\cos{\\left (\\pi x \\right )} \\cos{\\left (\\pi y \\right )} & - 1.0 \\pi^{2} \\left(lam + \\mu\\right) \\sin{\\left (\\pi x \\right )} \\sin{\\left (\\pi y \\right )}\\end{matrix}\\right]$$"
      ],
      "text/plain": [
       "⎡ 2                                            2                            ⎤\n",
       "⎣π ⋅(1.0⋅lam + 3.0⋅μ)⋅cos(π⋅x)⋅cos(π⋅y)  -1.0⋅π ⋅(lam + μ)⋅sin(π⋅x)⋅sin(π⋅y)⎦"
      ]
     },
     "execution_count": 27,
     "metadata": {},
     "output_type": "execute_result"
    }
   ],
   "source": [
    "force = -simplify(tensorcontraction(derive_by_array(stress, [x, y]), (0, 2)))\n",
    "force"
   ]
  },
  {
   "cell_type": "code",
   "execution_count": 29,
   "metadata": {},
   "outputs": [
    {
     "data": {
      "text/plain": [
       "'[pi**2*(1.0*lam + 3.0*mu)*cos(pi*x)*cos(pi*y), -1.0*pi**2*(lam + mu)*sin(pi*x)*sin(pi*y)]'"
      ]
     },
     "execution_count": 29,
     "metadata": {},
     "output_type": "execute_result"
    }
   ],
   "source": [
    "ccode(force)"
   ]
  },
  {
   "cell_type": "code",
   "execution_count": 30,
   "metadata": {},
   "outputs": [
    {
     "data": {
      "text/plain": [
       "'[cos(pi*x)*cos(pi*y), 0.0]'"
      ]
     },
     "execution_count": 30,
     "metadata": {},
     "output_type": "execute_result"
    }
   ],
   "source": [
    "ccode(u)"
   ]
  },
  {
   "cell_type": "code",
   "execution_count": null,
   "metadata": {},
   "outputs": [],
   "source": []
  }
 ],
 "metadata": {
  "kernelspec": {
   "display_name": "Python 3",
   "language": "python",
   "name": "python3"
  },
  "language_info": {
   "codemirror_mode": {
    "name": "ipython",
    "version": 3
   },
   "file_extension": ".py",
   "mimetype": "text/x-python",
   "name": "python",
   "nbconvert_exporter": "python",
   "pygments_lexer": "ipython3",
   "version": "3.7.3"
  }
 },
 "nbformat": 4,
 "nbformat_minor": 2
}
