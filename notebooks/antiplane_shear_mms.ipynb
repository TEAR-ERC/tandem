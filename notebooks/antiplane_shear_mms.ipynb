{
 "cells": [
  {
   "cell_type": "markdown",
   "metadata": {},
   "source": [
    "# Manufactured solution for antiplane shear problem\n",
    "\n",
    "The following manufactured solution is almost identictial to the one presented in\n",
    "\n",
    "Erickson, B. A., and E. M. Dunham (2014), An efficient numerical method for earthquake cycles in heterogeneous media: Alternating subbasin and surface-rupturing events on faults crossing a sedimentary basin, J. Geophys. Res. Solid Earth, 119, 3290–3316, doi:10.1002/2013JB010614.\n",
    "\n",
    "The only difference is that the shear modulus is constant.\n",
    "\n",
    "Note that the manufactured solution is going to exactly solve the following problem:\n",
    "\n",
    "$$\n",
    "\\begin{aligned}\n",
    "    -\\frac{\\partial}{\\partial x_i}\\left(\\mu\\frac{\\partial u}{\\partial x_i}\\right) &= 0 & \\text{ in } & \\Omega\\\\\n",
    "    u &= u^* & \\text{ on } & \\Gamma_D \\\\\n",
    "    u &= S / 2 & \\text{ on } & \\Gamma_F \\\\\n",
    "    \\mu\\frac{\\partial u}{\\partial x_i}n_i &= \\sigma_nf(V,\\psi) + \\eta V & \\text{ on } & \\Gamma_F \\\\\n",
    "    \\frac{d\\psi}{dt} &= g(V,\\psi) + s(\\vec x, t) & \\text{ on } & \\Gamma_F \\\\ \n",
    "    \\frac{dS}{dt} &= V & \\text{ on } & \\Gamma_F\n",
    "\\end{aligned},\n",
    "$$\n",
    "where\n",
    "$$\n",
    "\\begin{aligned}\n",
    "    f(V, \\psi) &= a \\cdot \\mathrm{asinh}\\left(\\frac{V}{2.0 V_0} \\exp\\left(\\frac{\\psi}{a}\\right)\\right) \\\\\n",
    "    g(V, \\psi) &= \\frac{b V_0}{L} \\left(\\exp\\left(\\frac{f_0-\\psi}{b}\\right) - \\frac{V}{V_0}\\right) \\\\\n",
    "    s(\\vec{x}, t) &= - g(V^*, \\psi^*) + \\frac{d\\psi^*}{dt}\n",
    "\\end{aligned}\n",
    "$$"
   ]
  },
  {
   "cell_type": "code",
   "execution_count": 1,
   "metadata": {},
   "outputs": [],
   "source": [
    "from sympy import *\n",
    "init_printing()"
   ]
  },
  {
   "cell_type": "markdown",
   "metadata": {},
   "source": [
    "We first define symbols and general functions, which are going to be specified later."
   ]
  },
  {
   "cell_type": "code",
   "execution_count": 2,
   "metadata": {},
   "outputs": [],
   "source": [
    "x, y, t = symbols('x y t')\n",
    "H, L_x, t_e, t_w = symbols('H L_x t_e t_w')\n",
    "V0, V_p, V_min = symbols('V0 V_p V_min')\n",
    "delta, tau_inf, a, sn, eta = symbols('delta tau_inf a sn eta')\n",
    "K = Function('K')(t)\n",
    "phi = Function('phi')(x, y)\n",
    "V_star = Function('V^*')(t)\n",
    "tau_star = Function('tau^*')(t)\n",
    "mu = symbols('mu')"
   ]
  },
  {
   "cell_type": "markdown",
   "metadata": {},
   "source": [
    "$u^*$ is solution for the out-of-plane displacement."
   ]
  },
  {
   "cell_type": "code",
   "execution_count": 3,
   "metadata": {},
   "outputs": [
    {
     "data": {
      "image/png": "[encoded data removed]",
      "text/latex": [
       "$$\\frac{V_{p} t \\left(- \\phi{\\left (x,y \\right )} + 1\\right)}{2} + \\frac{\\delta K{\\left (t \\right )} \\phi{\\left (x,y \\right )}}{2} + \\frac{\\tau_{inf} x}{\\mu}$$"
      ],
      "text/plain": [
       "Vₚ⋅t⋅(-φ(x, y) + 1)   δ⋅K(t)⋅φ(x, y)   τ_inf⋅x\n",
       "─────────────────── + ────────────── + ───────\n",
       "         2                  2             μ   "
      ]
     },
     "execution_count": 3,
     "metadata": {},
     "output_type": "execute_result"
    }
   ],
   "source": [
    "u_star = delta / 2 * K * phi + V_p / 2 * t * (1 - phi) + tau_inf / mu.subs(x, L_x) * x \n",
    "u_star"
   ]
  },
  {
   "cell_type": "markdown",
   "metadata": {},
   "source": [
    "The following force term needs to be added to the right-hand-side of the Poisson problem. Due to the choice of $\\phi$ and the constant shear modulus it is going to be zero."
   ]
  },
  {
   "cell_type": "code",
   "execution_count": 4,
   "metadata": {},
   "outputs": [
    {
     "data": {
      "image/png": "[encoded data removed]",
      "text/latex": [
       "$$\\frac{\\mu \\left(V_{p} t - \\delta K{\\left (t \\right )}\\right) \\left(\\frac{\\partial^{2}}{\\partial x^{2}} \\phi{\\left (x,y \\right )} + \\frac{\\partial^{2}}{\\partial y^{2}} \\phi{\\left (x,y \\right )}\\right)}{2}$$"
      ],
      "text/plain": [
       "                  ⎛  2              2         ⎞\n",
       "                  ⎜ ∂              ∂          ⎟\n",
       "μ⋅(Vₚ⋅t - δ⋅K(t))⋅⎜───(φ(x, y)) + ───(φ(x, y))⎟\n",
       "                  ⎜  2              2         ⎟\n",
       "                  ⎝∂x             ∂y          ⎠\n",
       "───────────────────────────────────────────────\n",
       "                       2                       "
      ]
     },
     "execution_count": 4,
     "metadata": {},
     "output_type": "execute_result"
    }
   ],
   "source": [
    "force = - (mu * u_star.diff(x)).diff(x) - (mu * u_star.diff(y)).diff(y)\n",
    "force.simplify()"
   ]
  },
  {
   "cell_type": "markdown",
   "metadata": {},
   "source": [
    "$S^*$ is the on-fault displacement."
   ]
  },
  {
   "cell_type": "code",
   "execution_count": 5,
   "metadata": {},
   "outputs": [
    {
     "data": {
      "image/png": "[encoded data removed]",
      "text/latex": [
       "$$\\delta K{\\left (0 \\right )} \\phi{\\left (0,y \\right )}$$"
      ],
      "text/plain": [
       "δ⋅K(0)⋅φ(0, y)"
      ]
     },
     "execution_count": 5,
     "metadata": {},
     "output_type": "execute_result"
    }
   ],
   "source": [
    "S_star = 2 * u_star.subs(x, 0)\n",
    "S_star.simplify().subs(t, 0)"
   ]
  },
  {
   "cell_type": "markdown",
   "metadata": {},
   "source": [
    "$\\psi^*$ is the state variable."
   ]
  },
  {
   "cell_type": "code",
   "execution_count": 6,
   "metadata": {},
   "outputs": [
    {
     "data": {
      "image/png": "[encoded data removed]",
      "text/latex": [
       "$$a \\log{\\left (\\frac{2 V_{0} \\sinh{\\left (\\frac{- \\eta \\operatorname{V^{*}}{\\left (t \\right )} + \\tau^{*}{\\left (t \\right )}}{a sn} \\right )}}{\\operatorname{V^{*}}{\\left (t \\right )}} \\right )}$$"
      ],
      "text/plain": [
       "     ⎛         ⎛-η⋅V__*(t) + τ__*(t)⎞⎞\n",
       "     ⎜2⋅V₀⋅sinh⎜────────────────────⎟⎟\n",
       "     ⎜         ⎝        a⋅sn        ⎠⎟\n",
       "a⋅log⎜───────────────────────────────⎟\n",
       "     ⎝            V__*(t)            ⎠"
      ]
     },
     "execution_count": 6,
     "metadata": {},
     "output_type": "execute_result"
    }
   ],
   "source": [
    "psi_star = a * log((2*V0/V_star) * sinh((tau_star - eta*V_star)/(a*sn)))\n",
    "psi_star"
   ]
  },
  {
   "cell_type": "markdown",
   "metadata": {},
   "source": [
    "We need the time derivative $\\frac{d\\psi^*}{dt}$"
   ]
  },
  {
   "cell_type": "code",
   "execution_count": 7,
   "metadata": {
    "scrolled": true
   },
   "outputs": [
    {
     "data": {
      "image/png": "[encoded data removed]",
      "text/latex": [
       "$$- \\frac{a sn \\frac{d}{d t} \\operatorname{V^{*}}{\\left (t \\right )} - \\frac{\\eta \\operatorname{V^{*}}{\\left (t \\right )} \\frac{d}{d t} \\operatorname{V^{*}}{\\left (t \\right )}}{\\tanh{\\left (\\frac{\\eta \\operatorname{V^{*}}{\\left (t \\right )} - \\tau^{*}{\\left (t \\right )}}{a sn} \\right )}} + \\frac{\\operatorname{V^{*}}{\\left (t \\right )} \\frac{d}{d t} \\tau^{*}{\\left (t \\right )}}{\\tanh{\\left (\\frac{\\eta \\operatorname{V^{*}}{\\left (t \\right )} - \\tau^{*}{\\left (t \\right )}}{a sn} \\right )}}}{sn \\operatorname{V^{*}}{\\left (t \\right )}}$$"
      ],
      "text/plain": [
       " ⎛                               d                          d             ⎞ \n",
       " ⎜                     η⋅V__*(t)⋅──(V__*(t))        V__*(t)⋅──(τ__*(t))   ⎟ \n",
       " ⎜     d                         dt                         dt            ⎟ \n",
       "-⎜a⋅sn⋅──(V__*(t)) - ───────────────────────── + ─────────────────────────⎟ \n",
       " ⎜     dt                ⎛η⋅V__*(t) - τ__*(t)⎞       ⎛η⋅V__*(t) - τ__*(t)⎞⎟ \n",
       " ⎜                   tanh⎜───────────────────⎟   tanh⎜───────────────────⎟⎟ \n",
       " ⎝                       ⎝        a⋅sn       ⎠       ⎝        a⋅sn       ⎠⎠ \n",
       "────────────────────────────────────────────────────────────────────────────\n",
       "                                 sn⋅V__*(t)                                 "
      ]
     },
     "execution_count": 7,
     "metadata": {},
     "output_type": "execute_result"
    }
   ],
   "source": [
    "psi_star.diff(t).simplify()"
   ]
  },
  {
   "cell_type": "markdown",
   "metadata": {},
   "source": [
    "$\\tau^*$ is the on fault traction."
   ]
  },
  {
   "cell_type": "code",
   "execution_count": 8,
   "metadata": {},
   "outputs": [
    {
     "data": {
      "text/latex": [
       "$$\\frac{\\mu \\left(- V_{p} t + \\delta K{\\left (t \\right )}\\right) \\left. \\frac{\\partial}{\\partial x} \\phi{\\left (x,y \\right )} \\right|_{\\substack{ x=0 }}}{2} + \\tau_{inf}$$"
      ],
      "text/plain": [
       "                   ⎛∂          ⎞│           \n",
       "μ⋅(-Vₚ⋅t + δ⋅K(t))⋅⎜──(φ(x, y))⎟│           \n",
       "                   ⎝∂x         ⎠│x=0        \n",
       "──────────────────────────────────── + τ_inf\n",
       "                 2                          "
      ]
     },
     "execution_count": 8,
     "metadata": {},
     "output_type": "execute_result"
    }
   ],
   "source": [
    "tau_star = mu * u_star.diff(x).subs(x, 0)\n",
    "tau_star.simplify()"
   ]
  },
  {
   "cell_type": "markdown",
   "metadata": {},
   "source": [
    "Time derivative of traction: $\\frac{d \\tau^*}{dt}$"
   ]
  },
  {
   "cell_type": "code",
   "execution_count": 9,
   "metadata": {},
   "outputs": [
    {
     "data": {
      "text/latex": [
       "$$\\frac{\\mu \\left(- V_{p} + \\delta \\frac{d}{d t} K{\\left (t \\right )}\\right) \\left. \\frac{\\partial}{\\partial x} \\phi{\\left (x,y \\right )} \\right|_{\\substack{ x=0 }}}{2}$$"
      ],
      "text/plain": [
       "  ⎛        d       ⎞ ⎛∂          ⎞│   \n",
       "μ⋅⎜-Vₚ + δ⋅──(K(t))⎟⋅⎜──(φ(x, y))⎟│   \n",
       "  ⎝        dt      ⎠ ⎝∂x         ⎠│x=0\n",
       "──────────────────────────────────────\n",
       "                  2                   "
      ]
     },
     "execution_count": 9,
     "metadata": {},
     "output_type": "execute_result"
    }
   ],
   "source": [
    "tau_star.diff(t).simplify()"
   ]
  },
  {
   "cell_type": "markdown",
   "metadata": {},
   "source": [
    "Slip-rate $V^*$"
   ]
  },
  {
   "cell_type": "code",
   "execution_count": 10,
   "metadata": {},
   "outputs": [
    {
     "data": {
      "image/png": "[encoded data removed]",
      "text/latex": [
       "$$- V_{p} \\left(\\phi{\\left (0,y \\right )} - 1\\right) + \\delta \\phi{\\left (0,y \\right )} \\frac{d}{d t} K{\\left (t \\right )}$$"
      ],
      "text/plain": [
       "                              d       \n",
       "-Vₚ⋅(φ(0, y) - 1) + δ⋅φ(0, y)⋅──(K(t))\n",
       "                              dt      "
      ]
     },
     "execution_count": 10,
     "metadata": {},
     "output_type": "execute_result"
    }
   ],
   "source": [
    "V_star = S_star.diff(t)\n",
    "V_star.simplify()"
   ]
  },
  {
   "cell_type": "markdown",
   "metadata": {},
   "source": [
    "Acceleration $\\frac{dV^*}{dt}$"
   ]
  },
  {
   "cell_type": "code",
   "execution_count": 11,
   "metadata": {},
   "outputs": [
    {
     "data": {
      "image/png": "[encoded data removed]",
      "text/latex": [
       "$$\\delta \\phi{\\left (0,y \\right )} \\frac{d^{2}}{d t^{2}} K{\\left (t \\right )}$$"
      ],
      "text/plain": [
       "            2      \n",
       "           d       \n",
       "δ⋅φ(0, y)⋅───(K(t))\n",
       "            2      \n",
       "          dt       "
      ]
     },
     "execution_count": 11,
     "metadata": {},
     "output_type": "execute_result"
    }
   ],
   "source": [
    "V_star.diff(t).simplify()"
   ]
  },
  {
   "cell_type": "markdown",
   "metadata": {},
   "source": [
    "The following lines define the functions $K$, $\\phi$, and necessary time derivatives."
   ]
  },
  {
   "cell_type": "code",
   "execution_count": 12,
   "metadata": {},
   "outputs": [
    {
     "data": {
      "image/png": "[encoded data removed]",
      "text/latex": [
       "$$\\frac{V_{min} t}{\\delta} + \\frac{\\operatorname{atan}{\\left (\\frac{t - t_{e}}{t_{w}} \\right )} + \\frac{\\pi}{2}}{\\pi}$$"
      ],
      "text/plain": [
       "             ⎛t - tₑ⎞   π\n",
       "         atan⎜──────⎟ + ─\n",
       "Vₘᵢₙ⋅t       ⎝ t_w  ⎠   2\n",
       "────── + ────────────────\n",
       "  δ             π        "
      ]
     },
     "execution_count": 12,
     "metadata": {},
     "output_type": "execute_result"
    }
   ],
   "source": [
    "K = 1/pi * (atan((t-t_e)/t_w) + pi/2) + V_min / delta * t\n",
    "K"
   ]
  },
  {
   "cell_type": "code",
   "execution_count": 13,
   "metadata": {},
   "outputs": [
    {
     "data": {
      "image/png": "[encoded data removed]",
      "text/latex": [
       "$$\\frac{V_{min}}{\\delta} + \\frac{1}{\\pi t_{w} \\left(1 + \\frac{\\left(t - t_{e}\\right)^{2}}{t_{w}^{2}}\\right)}$$"
      ],
      "text/plain": [
       "Vₘᵢₙ             1          \n",
       "──── + ─────────────────────\n",
       " δ           ⎛            2⎞\n",
       "             ⎜    (t - tₑ) ⎟\n",
       "       π⋅t_w⋅⎜1 + ─────────⎟\n",
       "             ⎜          2  ⎟\n",
       "             ⎝       t_w   ⎠"
      ]
     },
     "execution_count": 13,
     "metadata": {},
     "output_type": "execute_result"
    }
   ],
   "source": [
    "K.diff(t)"
   ]
  },
  {
   "cell_type": "code",
   "execution_count": 14,
   "metadata": {},
   "outputs": [
    {
     "data": {
      "image/png": "[encoded data removed]",
      "text/latex": [
       "$$- \\frac{2 t_{w} \\left(t - t_{e}\\right)}{\\pi \\left(t_{w}^{2} + \\left(t - t_{e}\\right)^{2}\\right)^{2}}$$"
      ],
      "text/plain": [
       "   -2⋅t_w⋅(t - tₑ)   \n",
       "─────────────────────\n",
       "                    2\n",
       "  ⎛   2           2⎞ \n",
       "π⋅⎝t_w  + (t - tₑ) ⎠ "
      ]
     },
     "execution_count": 14,
     "metadata": {},
     "output_type": "execute_result"
    }
   ],
   "source": [
    "K.diff(t).diff(t).simplify()"
   ]
  },
  {
   "cell_type": "code",
   "execution_count": 15,
   "metadata": {},
   "outputs": [
    {
     "data": {
      "image/png": "[encoded data removed]",
      "text/latex": [
       "$$\\frac{H \\left(H + x\\right)}{y^{2} + \\left(H + x\\right)^{2}}$$"
      ],
      "text/plain": [
       "  H⋅(H + x)  \n",
       "─────────────\n",
       " 2          2\n",
       "y  + (H + x) "
      ]
     },
     "execution_count": 15,
     "metadata": {},
     "output_type": "execute_result"
    }
   ],
   "source": [
    "phi = H*(H+x) / ((H+x)**2 + y**2)\n",
    "phi"
   ]
  },
  {
   "cell_type": "code",
   "execution_count": 16,
   "metadata": {},
   "outputs": [
    {
     "data": {
      "image/png": "[encoded data removed]",
      "text/latex": [
       "$$\\frac{H \\left(y^{2} - \\left(H + x\\right)^{2}\\right)}{\\left(y^{2} + \\left(H + x\\right)^{2}\\right)^{2}}$$"
      ],
      "text/plain": [
       "  ⎛ 2          2⎞\n",
       "H⋅⎝y  - (H + x) ⎠\n",
       "─────────────────\n",
       "                2\n",
       " ⎛ 2          2⎞ \n",
       " ⎝y  + (H + x) ⎠ "
      ]
     },
     "execution_count": 16,
     "metadata": {},
     "output_type": "execute_result"
    }
   ],
   "source": [
    "phi.diff(x).simplify()"
   ]
  },
  {
   "cell_type": "markdown",
   "metadata": {},
   "source": [
    "We show that $\\mathop{}\\!\\mathbin\\bigtriangleup \\phi = 0$, therefore no additional force term for the Poisson equation is required."
   ]
  },
  {
   "cell_type": "code",
   "execution_count": 17,
   "metadata": {},
   "outputs": [
    {
     "data": {
      "image/png": "[encoded data removed]",
      "text/latex": [
       "$$0$$"
      ],
      "text/plain": [
       "0"
      ]
     },
     "execution_count": 17,
     "metadata": {},
     "output_type": "execute_result"
    }
   ],
   "source": [
    "(phi.diff(x).diff(x) + phi.diff(y).diff(y)).simplify()"
   ]
  }
 ],
 "metadata": {
  "kernelspec": {
   "display_name": "Python 3",
   "language": "python",
   "name": "python3"
  },
  "language_info": {
   "codemirror_mode": {
    "name": "ipython",
    "version": 3
   },
   "file_extension": ".py",
   "mimetype": "text/x-python",
   "name": "python",
   "nbconvert_exporter": "python",
   "pygments_lexer": "ipython3",
   "version": "3.7.3"
  }
 },
 "nbformat": 4,
 "nbformat_minor": 2
}
