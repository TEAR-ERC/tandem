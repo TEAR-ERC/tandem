{
 "cells": [
  {
   "cell_type": "markdown",
   "metadata": {},
   "source": [
    "Elasticity solution for wedge-shaped problems\n",
    "======================================\n",
    "\n",
    "In this notebook an analytic solution for a wedge is constructed. Later on, we couple two wedge solutions to compute the displacement for a dipping fault with free surface."
   ]
  },
  {
   "cell_type": "markdown",
   "metadata": {},
   "source": [
    "Wedge solution\n",
    "----------------------"
   ]
  },
  {
   "cell_type": "markdown",
   "metadata": {},
   "source": [
    "Polar coordinates are given by\n",
    "\\begin{align}\n",
    "    x &= r\\cos(\\theta) \\\\\n",
    "    y &= r\\sin(\\theta) \\\\\n",
    "    r &= \\sqrt{x^2+y^2} \\\\\n",
    "    \\theta &= \\arctan(y/x) \\\\\n",
    "\\end{align}"
   ]
  },
  {
   "cell_type": "markdown",
   "metadata": {},
   "source": [
    "For a plane-strain problem, we assume there exists a biharmonic function $\\phi$ such that [1]\n",
    "\n",
    "\\begin{align}\n",
    "    2\\mu u_r &= -\\frac{\\partial \\phi}{\\partial r} + (1-\\nu)r\\frac{\\partial\\psi}{\\partial \\theta} \\\\\n",
    "    2\\mu u_\\theta &= -\\frac{1}{r}\\frac{\\partial \\phi}{\\partial \\theta} + (1-\\nu)r^2\\frac{\\partial\\psi}{\\partial r} \\\\\n",
    "    \\sigma_{rr} &= \\frac{1}{r}\\frac{\\partial \\phi}{\\partial r} +\n",
    "    \\frac{1}{r^2}\\frac{\\partial^2 \\phi}{\\partial \\theta^2} \\\\\n",
    "    \\sigma_{\\theta\\theta} &= \\frac{\\partial^2 \\phi}{\\partial r^2} \\\\\n",
    "    \\sigma_{r\\theta} &= -\\frac{\\partial }{\\partial r} \\left(\n",
    "      \\frac{1}{r}\\frac{\\partial \\phi}{\\partial\\theta}\n",
    "    \\right) \\\\\n",
    "\\end{align}\n",
    "where $\\mu$ is the shear modulus, $\\nu$ is Poisson's ratio, and $\\phi$ and $\\psi$ are related by\n",
    "$$\n",
    "\\nabla^2\\phi = \\frac{\\partial}{\\partial r}\\left(r\\frac{\\partial\\psi}{\\partial\\theta}\\right)\n",
    "$$\n",
    "\n",
    "Remark: Plane-stress is modelled in [1], therefore the formula are adjusted here for plane-strain.\n",
    "\n",
    "[1] \"Stress Singularites Resulting From Various Boundary Conditions in Angular Corners of Plates in Extension\", M. L. Williams, Journal of Applied Mechanics, 19 (4), pp. 526-528."
   ]
  },
  {
   "cell_type": "code",
   "execution_count": 1,
   "metadata": {},
   "outputs": [],
   "source": [
    "from sympy import *\n",
    "from sympy.plotting.plot import plot3d\n",
    "init_printing()\n",
    "%matplotlib notebook"
   ]
  },
  {
   "cell_type": "markdown",
   "metadata": {},
   "source": [
    "Assume\n",
    "\n",
    "$$\n",
    "\\phi = r^{\\lambda+1} \\left(A_1\\sin((\\lambda+1)\\theta) + A_2\\cos((\\lambda+1)\\theta) + A_3\\sin((\\lambda-1)\\theta) + A_4\\sin((\\lambda-1)\\theta)\\right)\n",
    "$$\n",
    "and\n",
    "$$\n",
    "\\psi = r^{\\lambda-1}\\left(-\\frac{4A_3}{\\lambda-1}\\cos((\\lambda-1)t) + \\frac{4A_4}{\\lambda-1}\\sin((\\lambda-1)t)\\right)\n",
    "$$"
   ]
  },
  {
   "cell_type": "code",
   "execution_count": 2,
   "metadata": {},
   "outputs": [
    {
     "data": {
      "image/png": "[encoded data removed]",
      "text/latex": [
       "$\\displaystyle \\left( r^{3} \\left(A_{1} \\sin{\\left(3 \\theta \\right)} + A_{2} \\cos{\\left(3 \\theta \\right)} + A_{3} \\sin{\\left(\\theta \\right)} + A_{4} \\cos{\\left(\\theta \\right)}\\right), \\  r \\left(- 4 A_{3} \\cos{\\left(\\theta \\right)} + 4 A_{4} \\sin{\\left(\\theta \\right)}\\right)\\right)$"
      ],
      "text/plain": [
       "⎛ 3                                                                           \n",
       "⎝r ⋅(A₁⋅sin(3⋅θ) + A₂⋅cos(3⋅θ) + A₃⋅sin(θ) + A₄⋅cos(θ)), r⋅(-4⋅A₃⋅cos(θ) + 4⋅A\n",
       "\n",
       "         ⎞\n",
       "₄⋅sin(θ))⎠"
      ]
     },
     "execution_count": 2,
     "metadata": {},
     "output_type": "execute_result"
    }
   ],
   "source": [
    "r, t, x, y, lam = symbols('r theta x y lamda')\n",
    "mu, nu, m, A0, A1, A2, A3, A4, S = symbols('mu nu m A_0 A_1 A_2 A_3 A_4 S')\n",
    "\n",
    "phi = r**(lam+1) * (A1 * sin((lam+1)*t) + A2*cos((lam+1)*t) + A3*sin((lam-1)*t) + A4*cos((lam-1)*t))\n",
    "psi = r**(lam-1) * (-4*A3/(lam-1)*cos((lam-1)*t) + 4*A4/(lam-1)*sin((lam-1)*t))\n",
    "\n",
    "phi2 = phi.subs(lam, 2)\n",
    "psi2 = psi.subs(lam, 2)\n",
    "(phi2, psi2)"
   ]
  },
  {
   "cell_type": "markdown",
   "metadata": {},
   "source": [
    "$\\psi$ must be harmonic, i.e. $\\nabla^2\\psi=0$, and $\\phi$ must be biharmonic, i.e. $\\nabla^2(\\nabla^2\\phi=0)$:"
   ]
  },
  {
   "cell_type": "code",
   "execution_count": 3,
   "metadata": {},
   "outputs": [
    {
     "data": {
      "image/png": "[encoded data removed]",
      "text/latex": [
       "$\\displaystyle \\left( 0, \\  0\\right)$"
      ],
      "text/plain": [
       "(0, 0)"
      ]
     },
     "execution_count": 3,
     "metadata": {},
     "output_type": "execute_result"
    }
   ],
   "source": [
    "def laplace(f):\n",
    "    return f.diff(r, 2) + f.diff(r)/r + f.diff(t, 2)/r**2\n",
    "(laplace(psi).simplify(), laplace(laplace(phi)).simplify())"
   ]
  },
  {
   "cell_type": "markdown",
   "metadata": {},
   "source": [
    "The relation of $\\phi$ and $\\psi$ must be satisfied:"
   ]
  },
  {
   "cell_type": "code",
   "execution_count": 4,
   "metadata": {},
   "outputs": [
    {
     "data": {
      "image/png": "[encoded data removed]",
      "text/latex": [
       "$\\displaystyle 0$"
      ],
      "text/plain": [
       "0"
      ]
     },
     "execution_count": 4,
     "metadata": {},
     "output_type": "execute_result"
    }
   ],
   "source": [
    "((r*psi.diff(t)).diff(r) - laplace(phi)).simplify()"
   ]
  },
  {
   "cell_type": "markdown",
   "metadata": {},
   "source": [
    "Define displacement and stress:"
   ]
  },
  {
   "cell_type": "code",
   "execution_count": 5,
   "metadata": {},
   "outputs": [],
   "source": [
    "def quants(phi, psi):\n",
    "    ur = (-phi.diff(r) + (1-nu)*r*psi.diff(t)) / (2 * mu)\n",
    "    ut = (-phi.diff(t)/r + (1-nu)*r**2*psi.diff(r)) / (2 * mu)\n",
    "    srr = (phi.diff(r) / r + phi.diff(t, 2) / r**2)\n",
    "    stt = phi.diff(r, 2)\n",
    "    srt = -(phi.diff(t)/r).diff(r)\n",
    "    return (ur.simplify(), ut.simplify(), srr.simplify(), stt.simplify(), srt.simplify())\n",
    "ur, ut, srr, stt, srt = quants(phi, psi)"
   ]
  },
  {
   "cell_type": "markdown",
   "metadata": {},
   "source": [
    "Check that stress-displacement relation is satisfied:"
   ]
  },
  {
   "cell_type": "code",
   "execution_count": 6,
   "metadata": {},
   "outputs": [
    {
     "data": {
      "image/png": "[encoded data removed]",
      "text/latex": [
       "$\\displaystyle \\left( 0, \\  0, \\  0\\right)$"
      ],
      "text/plain": [
       "(0, 0, 0)"
      ]
     },
     "execution_count": 6,
     "metadata": {},
     "output_type": "execute_result"
    }
   ],
   "source": [
    "err = ur.diff(r)\n",
    "ett = ut.diff(t)/r + ur/r\n",
    "ert = (ur.diff(t)/r + ut.diff(r) - ut/r) / 2\n",
    "((err - ((1-nu)*srr - nu*stt)/(2*mu)).simplify(),\n",
    " (ett - ((1-nu)*stt - nu*srr)/(2*mu)).simplify(),\n",
    " (ert - srt/(2*mu)).simplify())"
   ]
  },
  {
   "cell_type": "markdown",
   "metadata": {},
   "source": [
    "The planes $\\theta=0$ and $\\theta=-\\pi/3$ form an infinite wedge.\n",
    "We set $\\lambda=2$ and recover the coefficients $A_1,A_2,A_3,A_4$ which satisfy\n",
    "\\begin{align}\n",
    "    u_\\theta(r,-\\pi/3) &= 0 \\\\\n",
    "    u_r(r,-\\pi/3) &= Sr^2 \\\\\n",
    "    \\sigma_{r\\theta}(r,0) &= 0 \\\\\n",
    "    \\sigma_{\\theta\\theta}(r,0) &= 0\n",
    "\\end{align}"
   ]
  },
  {
   "cell_type": "code",
   "execution_count": 7,
   "metadata": {},
   "outputs": [
    {
     "data": {
      "image/png": "[encoded data removed]",
      "text/latex": [
       "$\\displaystyle \\left( \\frac{\\sqrt{3} S \\mu \\left(4 \\nu - 5\\right)}{3 \\left(- 16 \\nu^{2} + 20 \\nu + 5\\right)}, \\  \\frac{S \\mu \\left(7 - 4 \\nu\\right)}{- 16 \\nu^{2} + 20 \\nu + 5}, \\  \\frac{\\sqrt{3} S \\mu \\left(5 - 4 \\nu\\right)}{- 16 \\nu^{2} + 20 \\nu + 5}, \\  \\frac{S \\mu \\left(4 \\nu - 7\\right)}{- 16 \\nu^{2} + 20 \\nu + 5}\\right)$"
      ],
      "text/plain": [
       "⎛   √3⋅S⋅μ⋅(4⋅ν - 5)       S⋅μ⋅(7 - 4⋅ν)      √3⋅S⋅μ⋅(5 - 4⋅ν)     S⋅μ⋅(4⋅ν - \n",
       "⎜──────────────────────, ──────────────────, ──────────────────, ─────────────\n",
       "⎜  ⎛      2           ⎞        2                   2                   2      \n",
       "⎝3⋅⎝- 16⋅ν  + 20⋅ν + 5⎠  - 16⋅ν  + 20⋅ν + 5  - 16⋅ν  + 20⋅ν + 5  - 16⋅ν  + 20⋅\n",
       "\n",
       "7)   ⎞\n",
       "─────⎟\n",
       "     ⎟\n",
       "ν + 5⎠"
      ]
     },
     "execution_count": 7,
     "metadata": {},
     "output_type": "execute_result"
    }
   ],
   "source": [
    "w1 = 0\n",
    "w2 = -pi/3\n",
    "mylam = 2\n",
    "solution = linsolve([ut.subs(lam, mylam).subs(t, w2)/r**2,\n",
    "                     ur.subs(lam, mylam).subs(t, w2)/r**2 - S,\n",
    "                     srt.subs(lam, mylam).subs(t, w1)/r,\n",
    "                     stt.subs(lam, mylam).subs(t, w1)/r],\n",
    "         A1, A2, A3, A4)\n",
    "a1, a2, a3, a4 = solution.args[0]\n",
    "a1, a2, a3, a4 = a1.simplify(), a2.simplify(), a3.simplify(), a4.simplify()\n",
    "(a1, a2, a3, a4)"
   ]
  },
  {
   "cell_type": "markdown",
   "metadata": {},
   "source": [
    "We check that the boundary conditions are satisfied:"
   ]
  },
  {
   "cell_type": "code",
   "execution_count": 8,
   "metadata": {},
   "outputs": [
    {
     "data": {
      "image/png": "[encoded data removed]",
      "text/latex": [
       "$\\displaystyle \\left( 0, \\  0\\right)$"
      ],
      "text/plain": [
       "(0, 0)"
      ]
     },
     "execution_count": 8,
     "metadata": {},
     "output_type": "execute_result"
    }
   ],
   "source": [
    "srr_s = srr.subs(lam, mylam).subs(A1, a1).subs(A2, a2).subs(A3, a3).subs(A4, a4).simplify()\n",
    "stt_s = stt.subs(lam, mylam).subs(A1, a1).subs(A2, a2).subs(A3, a3).subs(A4, a4).simplify()\n",
    "srt_s = srt.subs(lam, mylam).subs(A1, a1).subs(A2, a2).subs(A3, a3).subs(A4, a4).simplify()\n",
    "(stt_s.subs(t, w1), srt_s.subs(t, w1))"
   ]
  },
  {
   "cell_type": "code",
   "execution_count": 9,
   "metadata": {
    "scrolled": false
   },
   "outputs": [
    {
     "data": {
      "image/png": "[encoded data removed]",
      "text/latex": [
       "$\\displaystyle \\left( S r^{2}, \\  0\\right)$"
      ],
      "text/plain": [
       "⎛   2   ⎞\n",
       "⎝S⋅r , 0⎠"
      ]
     },
     "execution_count": 9,
     "metadata": {},
     "output_type": "execute_result"
    }
   ],
   "source": [
    "ur_s = ur.subs(lam, mylam).subs(A1, a1).subs(A2, a2).subs(A3, a3).subs(A4, a4).simplify()\n",
    "ut_s = ut.subs(lam, mylam).subs(A1, a1).subs(A2, a2).subs(A3, a3).subs(A4, a4).simplify()\n",
    "(ur_s.subs(t, w2).simplify(), ut_s.subs(t, w2).simplify())"
   ]
  },
  {
   "cell_type": "markdown",
   "metadata": {},
   "source": [
    "We convert the solution into Lua code:"
   ]
  },
  {
   "cell_type": "code",
   "execution_count": 10,
   "metadata": {},
   "outputs": [
    {
     "name": "stdout",
     "output_type": "stream",
     "text": [
      "local A_1 = (1.0/3.0)*math.sqrt(3)*S*mu*(4*nu - 5)/(-16*nu^2 + 20*nu + 5)\n",
      "local A_2 = S*mu*(7 - 4*nu)/(-16*nu^2 + 20*nu + 5)\n",
      "local A_3 = math.sqrt(3)*S*mu*(5 - 4*nu)/(-16*nu^2 + 20*nu + 5)\n",
      "local A_4 = S*mu*(4*nu - 7)/(-16*nu^2 + 20*nu + 5)\n",
      "local ur = (1.0/2.0)*r^2*(-3*A_1*math.sin(3*theta) - 3*A_2*math.cos(3*theta) - 4*A_3*nu*math.sin(theta) + A_3*math.sin(theta) - 4*A_4*nu*math.cos(theta) + A_4*math.cos(theta))/mu\n",
      "local ut = (1.0/2.0)*r^2*(-3*A_1*math.cos(3*theta) + 3*A_2*math.sin(3*theta) - A_3*math.cos(theta) + A_4*math.sin(theta) + (4*nu - 4)*(A_3*math.cos(theta) - A_4*math.sin(theta)))/mu\n"
     ]
    }
   ],
   "source": [
    "def lua_code(expr):\n",
    "    return rcode(expr).replace('cos', 'math.cos').replace('sin', 'math.sin').replace('sqrt', 'math.sqrt').replace('pi', 'math.pi')\n",
    "print(\"local A_1 =\", lua_code(a1))\n",
    "print(\"local A_2 =\", lua_code(a2))\n",
    "print(\"local A_3 =\", lua_code(a3))\n",
    "print(\"local A_4 =\", lua_code(a4))\n",
    "print(\"local ur =\", lua_code(ur.subs(lam, mylam).simplify()))\n",
    "print(\"local ut =\", lua_code(ut.subs(lam, mylam).simplify()))"
   ]
  },
  {
   "cell_type": "markdown",
   "metadata": {},
   "source": [
    "Dipping fault\n",
    "------------------\n",
    "\n",
    "We now couple two wedge solutions to impose a displacement in a dipping fault with a free-surface condition, as illustrated in the following figure:"
   ]
  },
  {
   "cell_type": "markdown",
   "metadata": {},
   "source": [
    "![fault](wedge.svg)"
   ]
  },
  {
   "cell_type": "markdown",
   "metadata": {},
   "source": [
    "where $[\\![ u ]\\!] = u_A - u_B$. The A-side and B-side of the fault are separated by the fault plane $\\theta=\\omega$. Also note that the origin, marked with a circle, is at the intesection of the fault and the free surface.\n",
    "\n",
    "We introduce potentials for the A-side and the B-side of the fault:"
   ]
  },
  {
   "cell_type": "code",
   "execution_count": 11,
   "metadata": {},
   "outputs": [
    {
     "data": {
      "image/png": "[encoded data removed]",
      "text/latex": [
       "$\\displaystyle \\left( r^{\\lambda + 1} \\left(A_{1} \\sin{\\left(\\theta \\left(\\lambda + 1\\right) \\right)} + A_{2} \\cos{\\left(\\theta \\left(\\lambda + 1\\right) \\right)} + A_{3} \\sin{\\left(\\theta \\left(\\lambda - 1\\right) \\right)} + A_{4} \\cos{\\left(\\theta \\left(\\lambda - 1\\right) \\right)}\\right), \\  \\frac{4 r^{\\lambda - 1} \\left(- A_{3} \\cos{\\left(\\theta \\left(\\lambda - 1\\right) \\right)} + A_{4} \\sin{\\left(\\theta \\left(\\lambda - 1\\right) \\right)}\\right)}{\\lambda - 1}, \\  r^{\\lambda + 1} \\left(B_{1} \\sin{\\left(\\theta \\left(\\lambda + 1\\right) \\right)} + B_{2} \\cos{\\left(\\theta \\left(\\lambda + 1\\right) \\right)} + B_{3} \\sin{\\left(\\theta \\left(\\lambda - 1\\right) \\right)} + B_{4} \\cos{\\left(\\theta \\left(\\lambda - 1\\right) \\right)}\\right), \\  \\frac{4 r^{\\lambda - 1} \\left(- B_{3} \\cos{\\left(\\theta \\left(\\lambda - 1\\right) \\right)} + B_{4} \\sin{\\left(\\theta \\left(\\lambda - 1\\right) \\right)}\\right)}{\\lambda - 1}\\right)$"
      ],
      "text/plain": [
       "⎛                                                                             \n",
       "⎜ λ + 1                                                                       \n",
       "⎜r     ⋅(A₁⋅sin(θ⋅(λ + 1)) + A₂⋅cos(θ⋅(λ + 1)) + A₃⋅sin(θ⋅(λ - 1)) + A₄⋅cos(θ⋅\n",
       "⎝                                                                             \n",
       "\n",
       "              λ - 1                                                           \n",
       "           4⋅r     ⋅(-A₃⋅cos(θ⋅(λ - 1)) + A₄⋅sin(θ⋅(λ - 1)))   λ + 1          \n",
       "(λ - 1))), ─────────────────────────────────────────────────, r     ⋅(B₁⋅sin(θ\n",
       "                                 λ - 1                                        \n",
       "\n",
       "                                                                           λ -\n",
       "                                                                        4⋅r   \n",
       "⋅(λ + 1)) + B₂⋅cos(θ⋅(λ + 1)) + B₃⋅sin(θ⋅(λ - 1)) + B₄⋅cos(θ⋅(λ - 1))), ──────\n",
       "                                                                              \n",
       "\n",
       " 1                                         ⎞\n",
       "  ⋅(-B₃⋅cos(θ⋅(λ - 1)) + B₄⋅sin(θ⋅(λ - 1)))⎟\n",
       "───────────────────────────────────────────⎟\n",
       "                λ - 1                      ⎠"
      ]
     },
     "execution_count": 11,
     "metadata": {},
     "output_type": "execute_result"
    }
   ],
   "source": [
    "B1, B2, B3, B4 = symbols('B_1 B_2 B_3 B_4')\n",
    "\n",
    "phiA = phi.simplify()\n",
    "psiA = psi.simplify()\n",
    "phiB = phiA.subs(A1, B1).subs(A2, B2).subs(A3, B3).subs(A4, B4).simplify()\n",
    "psiB = psiA.subs(A1, B1).subs(A2, B2).subs(A3, B3).subs(A4, B4).simplify()\n",
    "(phiA, psiA, phiB, psiB)"
   ]
  },
  {
   "cell_type": "code",
   "execution_count": 12,
   "metadata": {
    "scrolled": true
   },
   "outputs": [],
   "source": [
    "urA, utA, srrA, sttA, srtA = quants(phiA, psiA)\n",
    "urB, utB, srrB, sttB, srtB = quants(phiB, psiB)"
   ]
  },
  {
   "cell_type": "markdown",
   "metadata": {},
   "source": [
    "We remove the dependency on $r$ here to solve for the A and B coefficients:"
   ]
  },
  {
   "cell_type": "code",
   "execution_count": 13,
   "metadata": {},
   "outputs": [
    {
     "data": {
      "image/png": "[encoded data removed]",
      "text/latex": [
       "$\\displaystyle \\left( \\left(\\lambda + 1\\right) \\left(A_{1} \\sin{\\left(\\theta \\left(\\lambda + 1\\right) \\right)} + A_{2} \\cos{\\left(\\theta \\left(\\lambda + 1\\right) \\right)} + A_{3} \\sin{\\left(\\theta \\left(\\lambda - 1\\right) \\right)} + A_{4} \\cos{\\left(\\theta \\left(\\lambda - 1\\right) \\right)}\\right), \\  - A_{1} \\left(\\lambda + 1\\right) \\cos{\\left(\\theta \\left(\\lambda + 1\\right) \\right)} + A_{2} \\left(\\lambda + 1\\right) \\sin{\\left(\\theta \\left(\\lambda + 1\\right) \\right)} - A_{3} \\left(\\lambda - 1\\right) \\cos{\\left(\\theta \\left(\\lambda - 1\\right) \\right)} + A_{4} \\left(\\lambda - 1\\right) \\sin{\\left(\\theta \\left(\\lambda - 1\\right) \\right)}, \\  \\left(\\lambda + 1\\right) \\left(B_{1} \\sin{\\left(\\theta \\left(\\lambda + 1\\right) \\right)} + B_{2} \\cos{\\left(\\theta \\left(\\lambda + 1\\right) \\right)} + B_{3} \\sin{\\left(\\theta \\left(\\lambda - 1\\right) \\right)} + B_{4} \\cos{\\left(\\theta \\left(\\lambda - 1\\right) \\right)}\\right), \\  - B_{1} \\left(\\lambda + 1\\right) \\cos{\\left(\\theta \\left(\\lambda + 1\\right) \\right)} + B_{2} \\left(\\lambda + 1\\right) \\sin{\\left(\\theta \\left(\\lambda + 1\\right) \\right)} - B_{3} \\left(\\lambda - 1\\right) \\cos{\\left(\\theta \\left(\\lambda - 1\\right) \\right)} + B_{4} \\left(\\lambda - 1\\right) \\sin{\\left(\\theta \\left(\\lambda - 1\\right) \\right)}\\right)$"
      ],
      "text/plain": [
       "((λ + 1)⋅(A₁⋅sin(θ⋅(λ + 1)) + A₂⋅cos(θ⋅(λ + 1)) + A₃⋅sin(θ⋅(λ - 1)) + A₄⋅cos(θ\n",
       "⋅(λ - 1))), -A₁⋅(λ + 1)⋅cos(θ⋅(λ + 1)) + A₂⋅(λ + 1)⋅sin(θ⋅(λ + 1)) - A₃⋅(λ - 1\n",
       ")⋅cos(θ⋅(λ - 1)) + A₄⋅(λ - 1)⋅sin(θ⋅(λ - 1)), (λ + 1)⋅(B₁⋅sin(θ⋅(λ + 1)) + B₂⋅\n",
       "cos(θ⋅(λ + 1)) + B₃⋅sin(θ⋅(λ - 1)) + B₄⋅cos(θ⋅(λ - 1))), -B₁⋅(λ + 1)⋅cos(θ⋅(λ \n",
       "+ 1)) + B₂⋅(λ + 1)⋅sin(θ⋅(λ + 1)) - B₃⋅(λ - 1)⋅cos(θ⋅(λ - 1)) + B₄⋅(λ - 1)⋅sin\n",
       "(θ⋅(λ - 1)))"
      ]
     },
     "execution_count": 13,
     "metadata": {},
     "output_type": "execute_result"
    }
   ],
   "source": [
    "sttA_e = (sttA*r**(1-lam)/lam).simplify()\n",
    "srtA_e = (srtA*r**(1-lam)/lam).simplify()\n",
    "sttB_e = (sttB*r**(1-lam)/lam).simplify()\n",
    "srtB_e = (srtB*r**(1-lam)/lam).simplify()\n",
    "(sttA_e, srtA_e, sttB_e, srtB_e)"
   ]
  },
  {
   "cell_type": "code",
   "execution_count": 14,
   "metadata": {},
   "outputs": [
    {
     "data": {
      "image/png": "[encoded data removed]",
      "text/latex": [
       "$\\displaystyle \\left( - A_{1} \\left(\\lambda + 1\\right) \\sin{\\left(\\theta \\left(\\lambda + 1\\right) \\right)} - A_{2} \\left(\\lambda + 1\\right) \\cos{\\left(\\theta \\left(\\lambda + 1\\right) \\right)} - A_{3} \\left(\\lambda + 4 \\nu - 3\\right) \\sin{\\left(\\theta \\left(\\lambda - 1\\right) \\right)} - A_{4} \\left(\\lambda + 4 \\nu - 3\\right) \\cos{\\left(\\theta \\left(\\lambda - 1\\right) \\right)}, \\  - A_{1} \\left(\\lambda + 1\\right) \\cos{\\left(\\theta \\left(\\lambda + 1\\right) \\right)} + A_{2} \\left(\\lambda + 1\\right) \\sin{\\left(\\theta \\left(\\lambda + 1\\right) \\right)} - A_{3} \\left(\\lambda - 4 \\nu + 3\\right) \\cos{\\left(\\theta \\left(\\lambda - 1\\right) \\right)} + A_{4} \\left(\\lambda - 4 \\nu + 3\\right) \\sin{\\left(\\theta \\left(\\lambda - 1\\right) \\right)}, \\  - B_{1} \\left(\\lambda + 1\\right) \\sin{\\left(\\theta \\left(\\lambda + 1\\right) \\right)} - B_{2} \\left(\\lambda + 1\\right) \\cos{\\left(\\theta \\left(\\lambda + 1\\right) \\right)} - B_{3} \\left(\\lambda + 4 \\nu - 3\\right) \\sin{\\left(\\theta \\left(\\lambda - 1\\right) \\right)} - B_{4} \\left(\\lambda + 4 \\nu - 3\\right) \\cos{\\left(\\theta \\left(\\lambda - 1\\right) \\right)}, \\  - B_{1} \\left(\\lambda + 1\\right) \\cos{\\left(\\theta \\left(\\lambda + 1\\right) \\right)} + B_{2} \\left(\\lambda + 1\\right) \\sin{\\left(\\theta \\left(\\lambda + 1\\right) \\right)} - B_{3} \\left(\\lambda - 4 \\nu + 3\\right) \\cos{\\left(\\theta \\left(\\lambda - 1\\right) \\right)} + B_{4} \\left(\\lambda - 4 \\nu + 3\\right) \\sin{\\left(\\theta \\left(\\lambda - 1\\right) \\right)}\\right)$"
      ],
      "text/plain": [
       "(-A₁⋅(λ + 1)⋅sin(θ⋅(λ + 1)) - A₂⋅(λ + 1)⋅cos(θ⋅(λ + 1)) - A₃⋅(λ + 4⋅ν - 3)⋅sin\n",
       "(θ⋅(λ - 1)) - A₄⋅(λ + 4⋅ν - 3)⋅cos(θ⋅(λ - 1)), -A₁⋅(λ + 1)⋅cos(θ⋅(λ + 1)) + A₂\n",
       "⋅(λ + 1)⋅sin(θ⋅(λ + 1)) - A₃⋅(λ - 4⋅ν + 3)⋅cos(θ⋅(λ - 1)) + A₄⋅(λ - 4⋅ν + 3)⋅s\n",
       "in(θ⋅(λ - 1)), -B₁⋅(λ + 1)⋅sin(θ⋅(λ + 1)) - B₂⋅(λ + 1)⋅cos(θ⋅(λ + 1)) - B₃⋅(λ \n",
       "+ 4⋅ν - 3)⋅sin(θ⋅(λ - 1)) - B₄⋅(λ + 4⋅ν - 3)⋅cos(θ⋅(λ - 1)), -B₁⋅(λ + 1)⋅cos(θ\n",
       "⋅(λ + 1)) + B₂⋅(λ + 1)⋅sin(θ⋅(λ + 1)) - B₃⋅(λ - 4⋅ν + 3)⋅cos(θ⋅(λ - 1)) + B₄⋅(\n",
       "λ - 4⋅ν + 3)⋅sin(θ⋅(λ - 1)))"
      ]
     },
     "execution_count": 14,
     "metadata": {},
     "output_type": "execute_result"
    }
   ],
   "source": [
    "def simp_A(expr):\n",
    "    return factor(expr, *parsA).simplify()\n",
    "def simp_B(expr):\n",
    "    return factor(expr, *parsB).simplify()\n",
    "\n",
    "parsA = (A1, A2, A3, A4)\n",
    "urA_e = simp_A(urA*r**(-lam)*2*mu)\n",
    "utA_e = simp_A(utA*r**(-lam)*2*mu)\n",
    "parsB = (B1, B2, B3, B4)\n",
    "urB_e = simp_B(urB*r**(-lam)*2*mu)\n",
    "utB_e = simp_B(utB*r**(-lam)*2*mu)\n",
    "(urA_e, utA_e, urB_e, utB_e)"
   ]
  },
  {
   "cell_type": "markdown",
   "metadata": {},
   "source": [
    "We first compute coefficients which ensure the free-surface boundary condition. These calculations are independent for the A-side and B-side. Note that the A-wedge is given by planes $\\theta=\\pi$ and $\\theta=\\omega$, and the B-wedge is given by planes $\\theta=0$ and $\\theta=\\omega$."
   ]
  },
  {
   "cell_type": "code",
   "execution_count": 15,
   "metadata": {
    "scrolled": true
   },
   "outputs": [
    {
     "data": {
      "image/png": "[encoded data removed]",
      "text/latex": [
       "$\\displaystyle \\left( \\left\\{ A_{1} : \\frac{- A_{3} \\lambda + A_{3} \\cos{\\left(2 \\pi \\lambda \\right)} - A_{4} \\sin{\\left(2 \\pi \\lambda \\right)}}{\\lambda + 1}, \\  A_{2} : - \\frac{A_{3} \\sin{\\left(2 \\pi \\lambda \\right)} + A_{4} \\lambda + A_{4} \\cos{\\left(2 \\pi \\lambda \\right)}}{\\lambda + 1}\\right\\}, \\  \\left\\{ B_{1} : \\frac{B_{3} \\left(1 - \\lambda\\right)}{\\lambda + 1}, \\  B_{2} : - B_{4}\\right\\}\\right)$"
      ],
      "text/plain": [
       "⎛⎧    -A₃⋅λ + A₃⋅cos(2⋅π⋅λ) - A₄⋅sin(2⋅π⋅λ)      -(A₃⋅sin(2⋅π⋅λ) + A₄⋅λ + A₄⋅c\n",
       "⎜⎨A₁: ─────────────────────────────────────, A₂: ─────────────────────────────\n",
       "⎝⎩                    λ + 1                                       λ + 1       \n",
       "\n",
       "os(2⋅π⋅λ)) ⎫  ⎧    B₃⋅(1 - λ)         ⎫⎞\n",
       "───────────⎬, ⎨B₁: ──────────, B₂: -B₄⎬⎟\n",
       "           ⎭  ⎩      λ + 1            ⎭⎠"
      ]
     },
     "execution_count": 15,
     "metadata": {},
     "output_type": "execute_result"
    }
   ],
   "source": [
    "part_solution_A = solve([sttA_e.subs(t, pi),\n",
    "                         srtA_e.subs(t, pi)],\n",
    "                         *parsA)\n",
    "part_solution_A = {k: v.simplify() for k, v in part_solution_A.items()}\n",
    "part_solution_B = solve([sttB_e.subs(t, 0),\n",
    "                         srtB_e.subs(t, 0)],\n",
    "                         *parsB)\n",
    "part_solution_B = {k: v.simplify() for k, v in part_solution_B.items()}\n",
    "(part_solution_A, part_solution_B)"
   ]
  },
  {
   "cell_type": "markdown",
   "metadata": {},
   "source": [
    "We can now express $A_1,A_2,B_1,B_2$ in terms of $A_3,A_4,B_3,B_3$, which we substitute in the following:"
   ]
  },
  {
   "cell_type": "code",
   "execution_count": 16,
   "metadata": {},
   "outputs": [
    {
     "data": {
      "image/png": "[encoded data removed]",
      "text/latex": [
       "$\\displaystyle \\left( A_{3} \\left(\\lambda \\sin{\\left(\\theta \\left(\\lambda - 1\\right) \\right)} - \\lambda \\sin{\\left(\\theta \\left(\\lambda + 1\\right) \\right)} + \\sin{\\left(\\theta \\left(\\lambda - 1\\right) \\right)} + \\sin{\\left(\\lambda \\theta - 2 \\pi \\lambda + \\theta \\right)}\\right) - A_{4} \\left(- \\lambda \\cos{\\left(\\theta \\left(\\lambda - 1\\right) \\right)} + \\lambda \\cos{\\left(\\theta \\left(\\lambda + 1\\right) \\right)} - \\cos{\\left(\\theta \\left(\\lambda - 1\\right) \\right)} + \\cos{\\left(\\lambda \\theta - 2 \\pi \\lambda + \\theta \\right)}\\right), \\  - A_{3} \\left(\\lambda \\cos{\\left(\\theta \\left(\\lambda - 1\\right) \\right)} - \\lambda \\cos{\\left(\\theta \\left(\\lambda + 1\\right) \\right)} - \\cos{\\left(\\theta \\left(\\lambda - 1\\right) \\right)} + \\cos{\\left(\\lambda \\theta - 2 \\pi \\lambda + \\theta \\right)}\\right) - A_{4} \\left(- \\lambda \\sin{\\left(\\theta \\left(\\lambda - 1\\right) \\right)} + \\lambda \\sin{\\left(\\theta \\left(\\lambda + 1\\right) \\right)} + \\sin{\\left(\\theta \\left(\\lambda - 1\\right) \\right)} + \\sin{\\left(\\lambda \\theta - 2 \\pi \\lambda + \\theta \\right)}\\right), \\  2 B_{3} \\left(- \\lambda \\sin{\\left(\\theta \\right)} \\cos{\\left(\\lambda \\theta \\right)} + \\sin{\\left(\\lambda \\theta \\right)} \\cos{\\left(\\theta \\right)}\\right) + 2 B_{4} \\left(\\lambda + 1\\right) \\sin{\\left(\\theta \\right)} \\sin{\\left(\\lambda \\theta \\right)}, \\  - 2 B_{3} \\left(\\lambda - 1\\right) \\sin{\\left(\\theta \\right)} \\sin{\\left(\\lambda \\theta \\right)} - 2 B_{4} \\left(\\lambda \\sin{\\left(\\theta \\right)} \\cos{\\left(\\lambda \\theta \\right)} + \\sin{\\left(\\lambda \\theta \\right)} \\cos{\\left(\\theta \\right)}\\right)\\right)$"
      ],
      "text/plain": [
       "(A₃⋅(λ⋅sin(θ⋅(λ - 1)) - λ⋅sin(θ⋅(λ + 1)) + sin(θ⋅(λ - 1)) + sin(λ⋅θ - 2⋅π⋅λ + \n",
       "θ)) - A₄⋅(-λ⋅cos(θ⋅(λ - 1)) + λ⋅cos(θ⋅(λ + 1)) - cos(θ⋅(λ - 1)) + cos(λ⋅θ - 2⋅\n",
       "π⋅λ + θ)), -A₃⋅(λ⋅cos(θ⋅(λ - 1)) - λ⋅cos(θ⋅(λ + 1)) - cos(θ⋅(λ - 1)) + cos(λ⋅θ\n",
       " - 2⋅π⋅λ + θ)) - A₄⋅(-λ⋅sin(θ⋅(λ - 1)) + λ⋅sin(θ⋅(λ + 1)) + sin(θ⋅(λ - 1)) + s\n",
       "in(λ⋅θ - 2⋅π⋅λ + θ)), 2⋅B₃⋅(-λ⋅sin(θ)⋅cos(λ⋅θ) + sin(λ⋅θ)⋅cos(θ)) + 2⋅B₄⋅(λ + \n",
       "1)⋅sin(θ)⋅sin(λ⋅θ), -2⋅B₃⋅(λ - 1)⋅sin(θ)⋅sin(λ⋅θ) - 2⋅B₄⋅(λ⋅sin(θ)⋅cos(λ⋅θ) + \n",
       "sin(λ⋅θ)⋅cos(θ)))"
      ]
     },
     "execution_count": 16,
     "metadata": {},
     "output_type": "execute_result"
    }
   ],
   "source": [
    "sttA_e2 = simp_A(sttA_e.subs(part_solution_A.items()))\n",
    "srtA_e2 = simp_A(srtA_e.subs(part_solution_A.items()))\n",
    "sttB_e2 = simp_B(sttB_e.subs(part_solution_B.items()))\n",
    "srtB_e2 = simp_B(srtB_e.subs(part_solution_B.items()))\n",
    "(sttA_e2, srtA_e2, sttB_e2, srtB_e2)"
   ]
  },
  {
   "cell_type": "code",
   "execution_count": 17,
   "metadata": {
    "scrolled": true
   },
   "outputs": [
    {
     "data": {
      "image/png": "[encoded data removed]",
      "text/latex": [
       "$\\displaystyle \\left( - A_{3} \\left(\\lambda \\sin{\\left(\\theta \\left(\\lambda - 1\\right) \\right)} - \\lambda \\sin{\\left(\\theta \\left(\\lambda + 1\\right) \\right)} + 4 \\nu \\sin{\\left(\\theta \\left(\\lambda - 1\\right) \\right)} - 3 \\sin{\\left(\\theta \\left(\\lambda - 1\\right) \\right)} + \\sin{\\left(\\lambda \\theta - 2 \\pi \\lambda + \\theta \\right)}\\right) + A_{4} \\left(- \\lambda \\cos{\\left(\\theta \\left(\\lambda - 1\\right) \\right)} + \\lambda \\cos{\\left(\\theta \\left(\\lambda + 1\\right) \\right)} - 4 \\nu \\cos{\\left(\\theta \\left(\\lambda - 1\\right) \\right)} + 3 \\cos{\\left(\\theta \\left(\\lambda - 1\\right) \\right)} + \\cos{\\left(\\lambda \\theta - 2 \\pi \\lambda + \\theta \\right)}\\right), \\  - A_{3} \\left(\\lambda \\cos{\\left(\\theta \\left(\\lambda - 1\\right) \\right)} - \\lambda \\cos{\\left(\\theta \\left(\\lambda + 1\\right) \\right)} - 4 \\nu \\cos{\\left(\\theta \\left(\\lambda - 1\\right) \\right)} + 3 \\cos{\\left(\\theta \\left(\\lambda - 1\\right) \\right)} + \\cos{\\left(\\lambda \\theta - 2 \\pi \\lambda + \\theta \\right)}\\right) - A_{4} \\left(- \\lambda \\sin{\\left(\\theta \\left(\\lambda - 1\\right) \\right)} + \\lambda \\sin{\\left(\\theta \\left(\\lambda + 1\\right) \\right)} + 4 \\nu \\sin{\\left(\\theta \\left(\\lambda - 1\\right) \\right)} - 3 \\sin{\\left(\\theta \\left(\\lambda - 1\\right) \\right)} + \\sin{\\left(\\lambda \\theta - 2 \\pi \\lambda + \\theta \\right)}\\right), \\  - B_{3} \\left(\\lambda \\sin{\\left(\\theta \\left(\\lambda - 1\\right) \\right)} - \\lambda \\sin{\\left(\\theta \\left(\\lambda + 1\\right) \\right)} + 4 \\nu \\sin{\\left(\\theta \\left(\\lambda - 1\\right) \\right)} - 3 \\sin{\\left(\\theta \\left(\\lambda - 1\\right) \\right)} + \\sin{\\left(\\theta \\left(\\lambda + 1\\right) \\right)}\\right) + B_{4} \\left(- \\lambda \\cos{\\left(\\theta \\left(\\lambda - 1\\right) \\right)} + \\lambda \\cos{\\left(\\theta \\left(\\lambda + 1\\right) \\right)} - 4 \\nu \\cos{\\left(\\theta \\left(\\lambda - 1\\right) \\right)} + 3 \\cos{\\left(\\theta \\left(\\lambda - 1\\right) \\right)} + \\cos{\\left(\\theta \\left(\\lambda + 1\\right) \\right)}\\right), \\  - B_{3} \\left(\\lambda \\cos{\\left(\\theta \\left(\\lambda - 1\\right) \\right)} - \\lambda \\cos{\\left(\\theta \\left(\\lambda + 1\\right) \\right)} - 4 \\nu \\cos{\\left(\\theta \\left(\\lambda - 1\\right) \\right)} + 3 \\cos{\\left(\\theta \\left(\\lambda - 1\\right) \\right)} + \\cos{\\left(\\theta \\left(\\lambda + 1\\right) \\right)}\\right) - B_{4} \\left(- \\lambda \\sin{\\left(\\theta \\left(\\lambda - 1\\right) \\right)} + \\lambda \\sin{\\left(\\theta \\left(\\lambda + 1\\right) \\right)} + 4 \\nu \\sin{\\left(\\theta \\left(\\lambda - 1\\right) \\right)} - 3 \\sin{\\left(\\theta \\left(\\lambda - 1\\right) \\right)} + \\sin{\\left(\\theta \\left(\\lambda + 1\\right) \\right)}\\right)\\right)$"
      ],
      "text/plain": [
       "(-A₃⋅(λ⋅sin(θ⋅(λ - 1)) - λ⋅sin(θ⋅(λ + 1)) + 4⋅ν⋅sin(θ⋅(λ - 1)) - 3⋅sin(θ⋅(λ - \n",
       "1)) + sin(λ⋅θ - 2⋅π⋅λ + θ)) + A₄⋅(-λ⋅cos(θ⋅(λ - 1)) + λ⋅cos(θ⋅(λ + 1)) - 4⋅ν⋅c\n",
       "os(θ⋅(λ - 1)) + 3⋅cos(θ⋅(λ - 1)) + cos(λ⋅θ - 2⋅π⋅λ + θ)), -A₃⋅(λ⋅cos(θ⋅(λ - 1)\n",
       ") - λ⋅cos(θ⋅(λ + 1)) - 4⋅ν⋅cos(θ⋅(λ - 1)) + 3⋅cos(θ⋅(λ - 1)) + cos(λ⋅θ - 2⋅π⋅λ\n",
       " + θ)) - A₄⋅(-λ⋅sin(θ⋅(λ - 1)) + λ⋅sin(θ⋅(λ + 1)) + 4⋅ν⋅sin(θ⋅(λ - 1)) - 3⋅sin\n",
       "(θ⋅(λ - 1)) + sin(λ⋅θ - 2⋅π⋅λ + θ)), -B₃⋅(λ⋅sin(θ⋅(λ - 1)) - λ⋅sin(θ⋅(λ + 1)) \n",
       "+ 4⋅ν⋅sin(θ⋅(λ - 1)) - 3⋅sin(θ⋅(λ - 1)) + sin(θ⋅(λ + 1))) + B₄⋅(-λ⋅cos(θ⋅(λ - \n",
       "1)) + λ⋅cos(θ⋅(λ + 1)) - 4⋅ν⋅cos(θ⋅(λ - 1)) + 3⋅cos(θ⋅(λ - 1)) + cos(θ⋅(λ + 1)\n",
       ")), -B₃⋅(λ⋅cos(θ⋅(λ - 1)) - λ⋅cos(θ⋅(λ + 1)) - 4⋅ν⋅cos(θ⋅(λ - 1)) + 3⋅cos(θ⋅(λ\n",
       " - 1)) + cos(θ⋅(λ + 1))) - B₄⋅(-λ⋅sin(θ⋅(λ - 1)) + λ⋅sin(θ⋅(λ + 1)) + 4⋅ν⋅sin(\n",
       "θ⋅(λ - 1)) - 3⋅sin(θ⋅(λ - 1)) + sin(θ⋅(λ + 1))))"
      ]
     },
     "execution_count": 17,
     "metadata": {},
     "output_type": "execute_result"
    }
   ],
   "source": [
    "utA_e2 = simp_A(utA_e.subs(part_solution_A.items()))\n",
    "urA_e2 = simp_A(urA_e.subs(part_solution_A.items()))\n",
    "urB_e2 = simp_B(urB_e.subs(part_solution_B.items()))\n",
    "utB_e2 = simp_B(utB_e.subs(part_solution_B.items()))\n",
    "(urA_e2, utA_e2, urB_e2, utB_e2)"
   ]
  },
  {
   "cell_type": "markdown",
   "metadata": {},
   "source": [
    "We now find the remaining coefficients for the imposed displacement on the fault plane $\\omega = -\\pi/3$. Note that we require the stress tensor to be continuous."
   ]
  },
  {
   "cell_type": "code",
   "execution_count": 18,
   "metadata": {},
   "outputs": [
    {
     "data": {
      "image/png": "[encoded data removed]",
      "text/latex": [
       "$\\displaystyle \\left[ A_{3} \\left(\\sqrt{3} \\lambda \\cos{\\left(\\frac{\\pi \\lambda}{3} \\right)} - \\sin{\\left(\\pi \\left(\\frac{7 \\lambda}{3} + \\frac{1}{3}\\right) \\right)} + \\cos{\\left(\\pi \\left(\\frac{\\lambda}{3} + \\frac{1}{6}\\right) \\right)}\\right) + A_{4} \\left(\\sqrt{3} \\lambda \\sin{\\left(\\frac{\\pi \\lambda}{3} \\right)} + \\sin{\\left(\\pi \\left(\\frac{\\lambda}{3} + \\frac{1}{6}\\right) \\right)} - \\cos{\\left(\\pi \\left(\\frac{7 \\lambda}{3} + \\frac{1}{3}\\right) \\right)}\\right) - B_{3} \\left(\\sqrt{3} \\lambda \\cos{\\left(\\frac{\\pi \\lambda}{3} \\right)} - \\sin{\\left(\\frac{\\pi \\lambda}{3} \\right)}\\right) - \\sqrt{3} B_{4} \\left(\\lambda + 1\\right) \\sin{\\left(\\frac{\\pi \\lambda}{3} \\right)}, \\  - A_{3} \\left(\\sqrt{3} \\lambda \\sin{\\left(\\frac{\\pi \\lambda}{3} \\right)} - \\sin{\\left(\\pi \\left(\\frac{\\lambda}{3} + \\frac{1}{6}\\right) \\right)} + \\cos{\\left(\\pi \\left(\\frac{7 \\lambda}{3} + \\frac{1}{3}\\right) \\right)}\\right) + A_{4} \\left(\\sqrt{3} \\lambda \\cos{\\left(\\frac{\\pi \\lambda}{3} \\right)} + \\sin{\\left(\\pi \\left(\\frac{7 \\lambda}{3} + \\frac{1}{3}\\right) \\right)} - \\cos{\\left(\\pi \\left(\\frac{\\lambda}{3} + \\frac{1}{6}\\right) \\right)}\\right) + \\sqrt{3} B_{3} \\left(\\lambda - 1\\right) \\sin{\\left(\\frac{\\pi \\lambda}{3} \\right)} - B_{4} \\left(\\sqrt{3} \\lambda \\cos{\\left(\\frac{\\pi \\lambda}{3} \\right)} + \\sin{\\left(\\frac{\\pi \\lambda}{3} \\right)}\\right), \\  - A_{3} \\left(\\sqrt{3} \\lambda \\sin{\\left(\\frac{\\pi \\lambda}{3} \\right)} - 4 \\nu \\sin{\\left(\\pi \\left(\\frac{\\lambda}{3} + \\frac{1}{6}\\right) \\right)} + 3 \\sin{\\left(\\pi \\left(\\frac{\\lambda}{3} + \\frac{1}{6}\\right) \\right)} + \\cos{\\left(\\pi \\left(\\frac{7 \\lambda}{3} + \\frac{1}{3}\\right) \\right)}\\right) + A_{4} \\left(\\sqrt{3} \\lambda \\cos{\\left(\\frac{\\pi \\lambda}{3} \\right)} - 4 \\nu \\cos{\\left(\\pi \\left(\\frac{\\lambda}{3} + \\frac{1}{6}\\right) \\right)} + \\sin{\\left(\\pi \\left(\\frac{7 \\lambda}{3} + \\frac{1}{3}\\right) \\right)} + 3 \\cos{\\left(\\pi \\left(\\frac{\\lambda}{3} + \\frac{1}{6}\\right) \\right)}\\right) + B_{3} \\left(\\sqrt{3} \\lambda \\sin{\\left(\\frac{\\pi \\lambda}{3} \\right)} - 4 \\nu \\sin{\\left(\\pi \\left(\\frac{\\lambda}{3} + \\frac{1}{6}\\right) \\right)} + \\sqrt{3} \\sin{\\left(\\frac{\\pi \\lambda}{3} \\right)} + 2 \\cos{\\left(\\frac{\\pi \\lambda}{3} \\right)}\\right) - B_{4} \\left(\\sqrt{3} \\lambda \\cos{\\left(\\frac{\\pi \\lambda}{3} \\right)} - 4 \\nu \\cos{\\left(\\pi \\left(\\frac{\\lambda}{3} + \\frac{1}{6}\\right) \\right)} - \\sin{\\left(\\frac{\\pi \\lambda}{3} \\right)} + 2 \\sqrt{3} \\cos{\\left(\\frac{\\pi \\lambda}{3} \\right)}\\right), \\  - A_{3} \\left(\\sqrt{3} \\lambda \\cos{\\left(\\frac{\\pi \\lambda}{3} \\right)} + 4 \\nu \\cos{\\left(\\pi \\left(\\frac{\\lambda}{3} + \\frac{1}{6}\\right) \\right)} - \\sin{\\left(\\pi \\left(\\frac{7 \\lambda}{3} + \\frac{1}{3}\\right) \\right)} - 3 \\cos{\\left(\\pi \\left(\\frac{\\lambda}{3} + \\frac{1}{6}\\right) \\right)}\\right) - A_{4} \\left(\\sqrt{3} \\lambda \\sin{\\left(\\frac{\\pi \\lambda}{3} \\right)} + 4 \\nu \\sin{\\left(\\pi \\left(\\frac{\\lambda}{3} + \\frac{1}{6}\\right) \\right)} - 3 \\sin{\\left(\\pi \\left(\\frac{\\lambda}{3} + \\frac{1}{6}\\right) \\right)} - \\cos{\\left(\\pi \\left(\\frac{7 \\lambda}{3} + \\frac{1}{3}\\right) \\right)}\\right) + B_{3} \\left(\\sqrt{3} \\lambda \\cos{\\left(\\frac{\\pi \\lambda}{3} \\right)} + 4 \\nu \\cos{\\left(\\pi \\left(\\frac{\\lambda}{3} + \\frac{1}{6}\\right) \\right)} + \\sin{\\left(\\frac{\\pi \\lambda}{3} \\right)} - 2 \\sqrt{3} \\cos{\\left(\\frac{\\pi \\lambda}{3} \\right)}\\right) + B_{4} \\left(\\sqrt{3} \\lambda \\sin{\\left(\\frac{\\pi \\lambda}{3} \\right)} + 4 \\nu \\sin{\\left(\\pi \\left(\\frac{\\lambda}{3} + \\frac{1}{6}\\right) \\right)} - \\sqrt{3} \\sin{\\left(\\frac{\\pi \\lambda}{3} \\right)} - 2 \\cos{\\left(\\frac{\\pi \\lambda}{3} \\right)}\\right) - S\\right]$"
      ],
      "text/plain": [
       "⎡   ⎛        ⎛π⋅λ⎞      ⎛  ⎛7⋅λ   1⎞⎞      ⎛  ⎛λ   1⎞⎞⎞      ⎛        ⎛π⋅λ⎞   \n",
       "⎢A₃⋅⎜√3⋅λ⋅cos⎜───⎟ - sin⎜π⋅⎜─── + ─⎟⎟ + cos⎜π⋅⎜─ + ─⎟⎟⎟ + A₄⋅⎜√3⋅λ⋅sin⎜───⎟ + \n",
       "⎣   ⎝        ⎝ 3 ⎠      ⎝  ⎝ 3    3⎠⎠      ⎝  ⎝3   6⎠⎠⎠      ⎝        ⎝ 3 ⎠   \n",
       "\n",
       "   ⎛  ⎛λ   1⎞⎞      ⎛  ⎛7⋅λ   1⎞⎞⎞      ⎛        ⎛π⋅λ⎞      ⎛π⋅λ⎞⎞            \n",
       "sin⎜π⋅⎜─ + ─⎟⎟ - cos⎜π⋅⎜─── + ─⎟⎟⎟ - B₃⋅⎜√3⋅λ⋅cos⎜───⎟ - sin⎜───⎟⎟ - √3⋅B₄⋅(λ \n",
       "   ⎝  ⎝3   6⎠⎠      ⎝  ⎝ 3    3⎠⎠⎠      ⎝        ⎝ 3 ⎠      ⎝ 3 ⎠⎠            \n",
       "\n",
       "        ⎛π⋅λ⎞       ⎛        ⎛π⋅λ⎞      ⎛  ⎛λ   1⎞⎞      ⎛  ⎛7⋅λ   1⎞⎞⎞      ⎛\n",
       "+ 1)⋅sin⎜───⎟, - A₃⋅⎜√3⋅λ⋅sin⎜───⎟ - sin⎜π⋅⎜─ + ─⎟⎟ + cos⎜π⋅⎜─── + ─⎟⎟⎟ + A₄⋅⎜\n",
       "        ⎝ 3 ⎠       ⎝        ⎝ 3 ⎠      ⎝  ⎝3   6⎠⎠      ⎝  ⎝ 3    3⎠⎠⎠      ⎝\n",
       "\n",
       "        ⎛π⋅λ⎞      ⎛  ⎛7⋅λ   1⎞⎞      ⎛  ⎛λ   1⎞⎞⎞                    ⎛π⋅λ⎞   \n",
       "√3⋅λ⋅cos⎜───⎟ + sin⎜π⋅⎜─── + ─⎟⎟ - cos⎜π⋅⎜─ + ─⎟⎟⎟ + √3⋅B₃⋅(λ - 1)⋅sin⎜───⎟ - \n",
       "        ⎝ 3 ⎠      ⎝  ⎝ 3    3⎠⎠      ⎝  ⎝3   6⎠⎠⎠                    ⎝ 3 ⎠   \n",
       "\n",
       "   ⎛        ⎛π⋅λ⎞      ⎛π⋅λ⎞⎞       ⎛        ⎛π⋅λ⎞          ⎛  ⎛λ   1⎞⎞       \n",
       "B₄⋅⎜√3⋅λ⋅cos⎜───⎟ + sin⎜───⎟⎟, - A₃⋅⎜√3⋅λ⋅sin⎜───⎟ - 4⋅ν⋅sin⎜π⋅⎜─ + ─⎟⎟ + 3⋅si\n",
       "   ⎝        ⎝ 3 ⎠      ⎝ 3 ⎠⎠       ⎝        ⎝ 3 ⎠          ⎝  ⎝3   6⎠⎠       \n",
       "\n",
       " ⎛  ⎛λ   1⎞⎞      ⎛  ⎛7⋅λ   1⎞⎞⎞      ⎛        ⎛π⋅λ⎞          ⎛  ⎛λ   1⎞⎞     \n",
       "n⎜π⋅⎜─ + ─⎟⎟ + cos⎜π⋅⎜─── + ─⎟⎟⎟ + A₄⋅⎜√3⋅λ⋅cos⎜───⎟ - 4⋅ν⋅cos⎜π⋅⎜─ + ─⎟⎟ + si\n",
       " ⎝  ⎝3   6⎠⎠      ⎝  ⎝ 3    3⎠⎠⎠      ⎝        ⎝ 3 ⎠          ⎝  ⎝3   6⎠⎠     \n",
       "\n",
       " ⎛  ⎛7⋅λ   1⎞⎞        ⎛  ⎛λ   1⎞⎞⎞      ⎛        ⎛π⋅λ⎞          ⎛  ⎛λ   1⎞⎞   \n",
       "n⎜π⋅⎜─── + ─⎟⎟ + 3⋅cos⎜π⋅⎜─ + ─⎟⎟⎟ + B₃⋅⎜√3⋅λ⋅sin⎜───⎟ - 4⋅ν⋅sin⎜π⋅⎜─ + ─⎟⎟ + \n",
       " ⎝  ⎝ 3    3⎠⎠        ⎝  ⎝3   6⎠⎠⎠      ⎝        ⎝ 3 ⎠          ⎝  ⎝3   6⎠⎠   \n",
       "\n",
       "      ⎛π⋅λ⎞        ⎛π⋅λ⎞⎞      ⎛        ⎛π⋅λ⎞          ⎛  ⎛λ   1⎞⎞      ⎛π⋅λ⎞ \n",
       "√3⋅sin⎜───⎟ + 2⋅cos⎜───⎟⎟ - B₄⋅⎜√3⋅λ⋅cos⎜───⎟ - 4⋅ν⋅cos⎜π⋅⎜─ + ─⎟⎟ - sin⎜───⎟ \n",
       "      ⎝ 3 ⎠        ⎝ 3 ⎠⎠      ⎝        ⎝ 3 ⎠          ⎝  ⎝3   6⎠⎠      ⎝ 3 ⎠ \n",
       "\n",
       "          ⎛π⋅λ⎞⎞       ⎛        ⎛π⋅λ⎞          ⎛  ⎛λ   1⎞⎞      ⎛  ⎛7⋅λ   1⎞⎞ \n",
       "+ 2⋅√3⋅cos⎜───⎟⎟, - A₃⋅⎜√3⋅λ⋅cos⎜───⎟ + 4⋅ν⋅cos⎜π⋅⎜─ + ─⎟⎟ - sin⎜π⋅⎜─── + ─⎟⎟ \n",
       "          ⎝ 3 ⎠⎠       ⎝        ⎝ 3 ⎠          ⎝  ⎝3   6⎠⎠      ⎝  ⎝ 3    3⎠⎠ \n",
       "\n",
       "       ⎛  ⎛λ   1⎞⎞⎞      ⎛        ⎛π⋅λ⎞          ⎛  ⎛λ   1⎞⎞        ⎛  ⎛λ   1⎞\n",
       "- 3⋅cos⎜π⋅⎜─ + ─⎟⎟⎟ - A₄⋅⎜√3⋅λ⋅sin⎜───⎟ + 4⋅ν⋅sin⎜π⋅⎜─ + ─⎟⎟ - 3⋅sin⎜π⋅⎜─ + ─⎟\n",
       "       ⎝  ⎝3   6⎠⎠⎠      ⎝        ⎝ 3 ⎠          ⎝  ⎝3   6⎠⎠        ⎝  ⎝3   6⎠\n",
       "\n",
       "⎞      ⎛  ⎛7⋅λ   1⎞⎞⎞      ⎛        ⎛π⋅λ⎞          ⎛  ⎛λ   1⎞⎞      ⎛π⋅λ⎞     \n",
       "⎟ - cos⎜π⋅⎜─── + ─⎟⎟⎟ + B₃⋅⎜√3⋅λ⋅cos⎜───⎟ + 4⋅ν⋅cos⎜π⋅⎜─ + ─⎟⎟ + sin⎜───⎟ - 2⋅\n",
       "⎠      ⎝  ⎝ 3    3⎠⎠⎠      ⎝        ⎝ 3 ⎠          ⎝  ⎝3   6⎠⎠      ⎝ 3 ⎠     \n",
       "\n",
       "      ⎛π⋅λ⎞⎞      ⎛        ⎛π⋅λ⎞          ⎛  ⎛λ   1⎞⎞         ⎛π⋅λ⎞        ⎛π⋅\n",
       "√3⋅cos⎜───⎟⎟ + B₄⋅⎜√3⋅λ⋅sin⎜───⎟ + 4⋅ν⋅sin⎜π⋅⎜─ + ─⎟⎟ - √3⋅sin⎜───⎟ - 2⋅cos⎜──\n",
       "      ⎝ 3 ⎠⎠      ⎝        ⎝ 3 ⎠          ⎝  ⎝3   6⎠⎠         ⎝ 3 ⎠        ⎝ 3\n",
       "\n",
       "λ⎞⎞    ⎤\n",
       "─⎟⎟ - S⎥\n",
       " ⎠⎠    ⎦"
      ]
     },
     "execution_count": 18,
     "metadata": {},
     "output_type": "execute_result"
    }
   ],
   "source": [
    "w = -pi/3\n",
    "equations = [(sttA_e2 - sttB_e2).subs(t, w).simplify(),\n",
    "             (srtA_e2 - srtB_e2).subs(t, w).simplify(),\n",
    "             (utA_e2 - utB_e2).subs(t, w).simplify(),\n",
    "             (urA_e2 - urB_e2 - S).subs(t, w).simplify()]\n",
    "equations"
   ]
  },
  {
   "cell_type": "code",
   "execution_count": 19,
   "metadata": {},
   "outputs": [
    {
     "data": {
      "image/png": "[encoded data removed]",
      "text/latex": [
       "$\\displaystyle \\left[ - 4 A_{3} \\left(\\nu - 1\\right) \\cos{\\left(\\pi \\left(\\frac{\\lambda}{3} + \\frac{1}{6}\\right) \\right)} - 4 A_{4} \\left(\\nu - 1\\right) \\sin{\\left(\\pi \\left(\\frac{\\lambda}{3} + \\frac{1}{6}\\right) \\right)} + 4 B_{3} \\left(\\nu - 1\\right) \\cos{\\left(\\pi \\left(\\frac{\\lambda}{3} + \\frac{1}{6}\\right) \\right)} + 4 B_{4} \\left(\\nu - 1\\right) \\sin{\\left(\\pi \\left(\\frac{\\lambda}{3} + \\frac{1}{6}\\right) \\right)} - S, \\  - 4 A_{3} \\left(\\nu - 1\\right) \\sin{\\left(\\pi \\left(\\frac{\\lambda}{3} + \\frac{1}{6}\\right) \\right)} + 4 A_{4} \\left(\\nu - 1\\right) \\cos{\\left(\\pi \\left(\\frac{\\lambda}{3} + \\frac{1}{6}\\right) \\right)} + 4 B_{3} \\left(\\nu - 1\\right) \\sin{\\left(\\pi \\left(\\frac{\\lambda}{3} + \\frac{1}{6}\\right) \\right)} - 4 B_{4} \\left(\\nu - 1\\right) \\cos{\\left(\\pi \\left(\\frac{\\lambda}{3} + \\frac{1}{6}\\right) \\right)}\\right]$"
      ],
      "text/plain": [
       "⎡                  ⎛  ⎛λ   1⎞⎞                   ⎛  ⎛λ   1⎞⎞                  \n",
       "⎢- 4⋅A₃⋅(ν - 1)⋅cos⎜π⋅⎜─ + ─⎟⎟ - 4⋅A₄⋅(ν - 1)⋅sin⎜π⋅⎜─ + ─⎟⎟ + 4⋅B₃⋅(ν - 1)⋅co\n",
       "⎣                  ⎝  ⎝3   6⎠⎠                   ⎝  ⎝3   6⎠⎠                  \n",
       "\n",
       " ⎛  ⎛λ   1⎞⎞                   ⎛  ⎛λ   1⎞⎞                        ⎛  ⎛λ   1⎞⎞ \n",
       "s⎜π⋅⎜─ + ─⎟⎟ + 4⋅B₄⋅(ν - 1)⋅sin⎜π⋅⎜─ + ─⎟⎟ - S, - 4⋅A₃⋅(ν - 1)⋅sin⎜π⋅⎜─ + ─⎟⎟ \n",
       " ⎝  ⎝3   6⎠⎠                   ⎝  ⎝3   6⎠⎠                        ⎝  ⎝3   6⎠⎠ \n",
       "\n",
       "                  ⎛  ⎛λ   1⎞⎞                   ⎛  ⎛λ   1⎞⎞                   \n",
       "+ 4⋅A₄⋅(ν - 1)⋅cos⎜π⋅⎜─ + ─⎟⎟ + 4⋅B₃⋅(ν - 1)⋅sin⎜π⋅⎜─ + ─⎟⎟ - 4⋅B₄⋅(ν - 1)⋅cos\n",
       "                  ⎝  ⎝3   6⎠⎠                   ⎝  ⎝3   6⎠⎠                   \n",
       "\n",
       "⎛  ⎛λ   1⎞⎞⎤\n",
       "⎜π⋅⎜─ + ─⎟⎟⎥\n",
       "⎝  ⎝3   6⎠⎠⎦"
      ]
     },
     "execution_count": 19,
     "metadata": {},
     "output_type": "execute_result"
    }
   ],
   "source": [
    "part_equations_0 = [factor(equations[0] + equations[3], *parsA, *parsB).simplify(),\n",
    "                    factor(equations[1] - equations[2], *parsA, *parsB).simplify()]\n",
    "part_equations_0"
   ]
  },
  {
   "cell_type": "code",
   "execution_count": 20,
   "metadata": {},
   "outputs": [
    {
     "data": {
      "image/png": "[encoded data removed]",
      "text/latex": [
       "$\\displaystyle \\left\\{ A_{3} : \\frac{B_{3} \\left(\\nu - 1\\right) - \\frac{S \\cos{\\left(\\pi \\left(\\frac{\\lambda}{3} + \\frac{1}{6}\\right) \\right)}}{4}}{\\nu - 1}, \\  A_{4} : \\frac{B_{4} \\left(\\nu - 1\\right) - \\frac{S \\sin{\\left(\\pi \\left(\\frac{\\lambda}{3} + \\frac{1}{6}\\right) \\right)}}{4}}{\\nu - 1}\\right\\}$"
      ],
      "text/plain": [
       "⎧                      ⎛  ⎛λ   1⎞⎞                        ⎛  ⎛λ   1⎞⎞⎫\n",
       "⎪                 S⋅cos⎜π⋅⎜─ + ─⎟⎟                   S⋅sin⎜π⋅⎜─ + ─⎟⎟⎪\n",
       "⎪                      ⎝  ⎝3   6⎠⎠                        ⎝  ⎝3   6⎠⎠⎪\n",
       "⎨    B₃⋅(ν - 1) - ────────────────      B₄⋅(ν - 1) - ────────────────⎬\n",
       "⎪                        4                                  4        ⎪\n",
       "⎪A₃: ─────────────────────────────, A₄: ─────────────────────────────⎪\n",
       "⎩                ν - 1                              ν - 1            ⎭"
      ]
     },
     "execution_count": 20,
     "metadata": {},
     "output_type": "execute_result"
    }
   ],
   "source": [
    "part_solution_0 = solve(part_equations_0, A3, A4, B3, B4)\n",
    "part_solution_0 = {k: v.simplify() for k, v in part_solution_0.items()}\n",
    "part_solution_0"
   ]
  },
  {
   "cell_type": "code",
   "execution_count": 21,
   "metadata": {},
   "outputs": [],
   "source": [
    "part_equations_1 = [factor(equations[0].subs(part_solution_0.items()).simplify(), *parsB).simplify(),\n",
    "                    factor(equations[1].subs(part_solution_0.items()).simplify(), *parsB).simplify()]"
   ]
  },
  {
   "cell_type": "code",
   "execution_count": 22,
   "metadata": {
    "scrolled": false
   },
   "outputs": [
    {
     "data": {
      "image/png": "[encoded data removed]",
      "text/latex": [
       "$\\displaystyle \\left\\{ B_{3} : \\frac{S \\left(3 \\lambda \\sin{\\left(\\pi \\left(\\frac{\\lambda}{3} + \\frac{1}{3}\\right) \\right)} - 3 \\lambda \\sin{\\left(\\pi \\left(\\frac{7 \\lambda}{3} + \\frac{1}{3}\\right) \\right)} + \\sqrt{3} \\lambda \\cos{\\left(\\pi \\left(\\frac{\\lambda}{3} + \\frac{1}{3}\\right) \\right)} - \\sqrt{3} \\lambda \\cos{\\left(\\pi \\left(\\frac{7 \\lambda}{3} + \\frac{1}{3}\\right) \\right)} + 2 \\sin{\\left(\\frac{8 \\pi \\lambda}{3} \\right)} \\cos{\\left(\\pi \\left(\\frac{\\lambda}{3} + \\frac{1}{3}\\right) \\right)} - 2 \\sin{\\left(\\frac{8 \\pi \\lambda}{3} \\right)} \\cos{\\left(\\pi \\left(\\frac{7 \\lambda}{3} + \\frac{1}{3}\\right) \\right)} - 2 \\sin{\\left(\\pi \\left(\\frac{\\lambda}{3} + \\frac{1}{3}\\right) \\right)} \\cos{\\left(\\frac{8 \\pi \\lambda}{3} \\right)} + 2 \\sin{\\left(\\pi \\left(\\frac{\\lambda}{3} + \\frac{1}{3}\\right) \\right)} + 2 \\sin{\\left(\\pi \\left(\\frac{7 \\lambda}{3} + \\frac{1}{3}\\right) \\right)} \\cos{\\left(\\frac{8 \\pi \\lambda}{3} \\right)} - 2 \\sin{\\left(\\pi \\left(\\frac{7 \\lambda}{3} + \\frac{1}{3}\\right) \\right)}\\right)}{32 \\left(\\nu - 1\\right) \\sin^{2}{\\left(\\pi \\lambda \\right)}}, \\  B_{4} : \\frac{S \\left(- \\sqrt{3} \\lambda \\sin{\\left(\\pi \\left(\\frac{\\lambda}{3} + \\frac{1}{3}\\right) \\right)} + \\sqrt{3} \\lambda \\sin{\\left(\\pi \\left(\\frac{7 \\lambda}{3} + \\frac{1}{3}\\right) \\right)} + 3 \\lambda \\cos{\\left(\\pi \\left(\\frac{\\lambda}{3} + \\frac{1}{3}\\right) \\right)} - 3 \\lambda \\cos{\\left(\\pi \\left(\\frac{7 \\lambda}{3} + \\frac{1}{3}\\right) \\right)} - 2 \\sin{\\left(\\frac{8 \\pi \\lambda}{3} \\right)} \\sin{\\left(\\pi \\left(\\frac{\\lambda}{3} + \\frac{1}{3}\\right) \\right)} + 2 \\sin{\\left(\\frac{8 \\pi \\lambda}{3} \\right)} \\sin{\\left(\\pi \\left(\\frac{7 \\lambda}{3} + \\frac{1}{3}\\right) \\right)} - 2 \\cos{\\left(\\frac{8 \\pi \\lambda}{3} \\right)} \\cos{\\left(\\pi \\left(\\frac{\\lambda}{3} + \\frac{1}{3}\\right) \\right)} + 2 \\cos{\\left(\\frac{8 \\pi \\lambda}{3} \\right)} \\cos{\\left(\\pi \\left(\\frac{7 \\lambda}{3} + \\frac{1}{3}\\right) \\right)} + 2 \\cos{\\left(\\pi \\left(\\frac{\\lambda}{3} + \\frac{1}{3}\\right) \\right)} - 2 \\cos{\\left(\\pi \\left(\\frac{7 \\lambda}{3} + \\frac{1}{3}\\right) \\right)}\\right)}{32 \\left(\\nu - 1\\right) \\sin^{2}{\\left(\\pi \\lambda \\right)}}\\right\\}$"
      ],
      "text/plain": [
       "⎧      ⎛       ⎛  ⎛λ   1⎞⎞          ⎛  ⎛7⋅λ   1⎞⎞           ⎛  ⎛λ   1⎞⎞       \n",
       "⎪    S⋅⎜3⋅λ⋅sin⎜π⋅⎜─ + ─⎟⎟ - 3⋅λ⋅sin⎜π⋅⎜─── + ─⎟⎟ + √3⋅λ⋅cos⎜π⋅⎜─ + ─⎟⎟ - √3⋅λ\n",
       "⎪      ⎝       ⎝  ⎝3   3⎠⎠          ⎝  ⎝ 3    3⎠⎠           ⎝  ⎝3   3⎠⎠       \n",
       "⎨B₃: ─────────────────────────────────────────────────────────────────────────\n",
       "⎪                                                                             \n",
       "⎪                                                                             \n",
       "⎩                                                                             \n",
       "\n",
       "    ⎛  ⎛7⋅λ   1⎞⎞        ⎛8⋅π⋅λ⎞    ⎛  ⎛λ   1⎞⎞        ⎛8⋅π⋅λ⎞    ⎛  ⎛7⋅λ   1⎞\n",
       "⋅cos⎜π⋅⎜─── + ─⎟⎟ + 2⋅sin⎜─────⎟⋅cos⎜π⋅⎜─ + ─⎟⎟ - 2⋅sin⎜─────⎟⋅cos⎜π⋅⎜─── + ─⎟\n",
       "    ⎝  ⎝ 3    3⎠⎠        ⎝  3  ⎠    ⎝  ⎝3   3⎠⎠        ⎝  3  ⎠    ⎝  ⎝ 3    3⎠\n",
       "──────────────────────────────────────────────────────────────────────────────\n",
       "                                                           2                  \n",
       "                                             32⋅(ν - 1)⋅sin (π⋅λ)             \n",
       "                                                                              \n",
       "\n",
       "⎞        ⎛  ⎛λ   1⎞⎞    ⎛8⋅π⋅λ⎞        ⎛  ⎛λ   1⎞⎞        ⎛  ⎛7⋅λ   1⎞⎞    ⎛8⋅\n",
       "⎟ - 2⋅sin⎜π⋅⎜─ + ─⎟⎟⋅cos⎜─────⎟ + 2⋅sin⎜π⋅⎜─ + ─⎟⎟ + 2⋅sin⎜π⋅⎜─── + ─⎟⎟⋅cos⎜──\n",
       "⎠        ⎝  ⎝3   3⎠⎠    ⎝  3  ⎠        ⎝  ⎝3   3⎠⎠        ⎝  ⎝ 3    3⎠⎠    ⎝  \n",
       "──────────────────────────────────────────────────────────────────────────────\n",
       "                                                                              \n",
       "                                                                              \n",
       "                                                                              \n",
       "\n",
       "π⋅λ⎞        ⎛  ⎛7⋅λ   1⎞⎞⎞        ⎛          ⎛  ⎛λ   1⎞⎞           ⎛  ⎛7⋅λ   1\n",
       "───⎟ - 2⋅sin⎜π⋅⎜─── + ─⎟⎟⎟      S⋅⎜- √3⋅λ⋅sin⎜π⋅⎜─ + ─⎟⎟ + √3⋅λ⋅sin⎜π⋅⎜─── + ─\n",
       "3  ⎠        ⎝  ⎝ 3    3⎠⎠⎠        ⎝          ⎝  ⎝3   3⎠⎠           ⎝  ⎝ 3    3\n",
       "──────────────────────────, B₄: ──────────────────────────────────────────────\n",
       "                                                                              \n",
       "                                                                              \n",
       "                                                                              \n",
       "\n",
       "⎞⎞          ⎛  ⎛λ   1⎞⎞          ⎛  ⎛7⋅λ   1⎞⎞        ⎛8⋅π⋅λ⎞    ⎛  ⎛λ   1⎞⎞  \n",
       "⎟⎟ + 3⋅λ⋅cos⎜π⋅⎜─ + ─⎟⎟ - 3⋅λ⋅cos⎜π⋅⎜─── + ─⎟⎟ - 2⋅sin⎜─────⎟⋅sin⎜π⋅⎜─ + ─⎟⎟ +\n",
       "⎠⎠          ⎝  ⎝3   3⎠⎠          ⎝  ⎝ 3    3⎠⎠        ⎝  3  ⎠    ⎝  ⎝3   3⎠⎠  \n",
       "──────────────────────────────────────────────────────────────────────────────\n",
       "                                                                              \n",
       "                                                                         32⋅(ν\n",
       "                                                                              \n",
       "\n",
       "      ⎛8⋅π⋅λ⎞    ⎛  ⎛7⋅λ   1⎞⎞        ⎛8⋅π⋅λ⎞    ⎛  ⎛λ   1⎞⎞        ⎛8⋅π⋅λ⎞   \n",
       " 2⋅sin⎜─────⎟⋅sin⎜π⋅⎜─── + ─⎟⎟ - 2⋅cos⎜─────⎟⋅cos⎜π⋅⎜─ + ─⎟⎟ + 2⋅cos⎜─────⎟⋅co\n",
       "      ⎝  3  ⎠    ⎝  ⎝ 3    3⎠⎠        ⎝  3  ⎠    ⎝  ⎝3   3⎠⎠        ⎝  3  ⎠   \n",
       "──────────────────────────────────────────────────────────────────────────────\n",
       "         2                                                                    \n",
       " - 1)⋅sin (π⋅λ)                                                               \n",
       "                                                                              \n",
       "\n",
       " ⎛  ⎛7⋅λ   1⎞⎞        ⎛  ⎛λ   1⎞⎞        ⎛  ⎛7⋅λ   1⎞⎞⎞⎫\n",
       "s⎜π⋅⎜─── + ─⎟⎟ + 2⋅cos⎜π⋅⎜─ + ─⎟⎟ - 2⋅cos⎜π⋅⎜─── + ─⎟⎟⎟⎪\n",
       " ⎝  ⎝ 3    3⎠⎠        ⎝  ⎝3   3⎠⎠        ⎝  ⎝ 3    3⎠⎠⎠⎪\n",
       "───────────────────────────────────────────────────────⎬\n",
       "                                                       ⎪\n",
       "                                                       ⎪\n",
       "                                                       ⎭"
      ]
     },
     "execution_count": 22,
     "metadata": {},
     "output_type": "execute_result"
    }
   ],
   "source": [
    "solution = solve(part_equations_1, B3, B4)\n",
    "solution = {k: v.simplify() for k, v in solution.items()}\n",
    "solution"
   ]
  },
  {
   "cell_type": "markdown",
   "metadata": {},
   "source": [
    "Note that $\\sin(\\pi\\lambda)$ appears in the denominator above.\n",
    "Thus, $\\lambda$ must not be an integer.\n",
    "\n",
    "We substitute the parameters into the quantities for $\\lambda = 0.5$:"
   ]
  },
  {
   "cell_type": "code",
   "execution_count": 23,
   "metadata": {},
   "outputs": [],
   "source": [
    "mylam = 0.5\n",
    "def subs_solution_A(expr):\n",
    "    return expr.subs(part_solution_A.items()).subs(part_solution_0.items()).subs(solution.items()).subs(lam, mylam)\n",
    "def subs_solution_B(expr):\n",
    "    return expr.subs(part_solution_B.items()).subs(part_solution_0.items()).subs(solution.items()).subs(lam, mylam)"
   ]
  },
  {
   "cell_type": "code",
   "execution_count": 24,
   "metadata": {},
   "outputs": [],
   "source": [
    "srrA_s = subs_solution_A(srrA).simplify()\n",
    "sttA_s = subs_solution_A(sttA).simplify()\n",
    "srtA_s = subs_solution_A(srtA).simplify()\n",
    "urA_s = subs_solution_A(urA).simplify()\n",
    "utA_s = subs_solution_A(utA).simplify()\n",
    "\n",
    "srrB_s = subs_solution_B(srrB).simplify()\n",
    "sttB_s = subs_solution_B(sttB).simplify()\n",
    "srtB_s = subs_solution_B(srtB).simplify()\n",
    "urB_s = subs_solution_B(urB).simplify()\n",
    "utB_s = subs_solution_B(utB).simplify()"
   ]
  },
  {
   "cell_type": "markdown",
   "metadata": {},
   "source": [
    "In the following we test whether the boundary conditions are satisifed."
   ]
  },
  {
   "cell_type": "code",
   "execution_count": 25,
   "metadata": {},
   "outputs": [
    {
     "data": {
      "image/png": "[encoded data removed]",
      "text/latex": [
       "$\\displaystyle \\left( 0, \\  0, \\  0, \\  0\\right)$"
      ],
      "text/plain": [
       "(0, 0, 0, 0)"
      ]
     },
     "execution_count": 25,
     "metadata": {},
     "output_type": "execute_result"
    }
   ],
   "source": [
    "(sttA_s.subs(t, pi).simplify(),\n",
    " srtA_s.subs(t, pi).simplify(),\n",
    " sttB_s.subs(t, 0).simplify(),\n",
    " srtB_s.subs(t, 0).simplify())"
   ]
  },
  {
   "cell_type": "code",
   "execution_count": 26,
   "metadata": {},
   "outputs": [
    {
     "data": {
      "image/png": "[encoded data removed]",
      "text/latex": [
       "$\\displaystyle \\left( 0, \\  \\frac{8.42799327967597 \\cdot 10^{-18} S}{r^{0.5} \\left(\\nu - 1.0\\right)}, \\  \\frac{0.0625 S r^{0.5} \\left(8.32421592076542 \\cdot 10^{-16} - 6.97573699601726 \\cdot 10^{-16} \\nu\\right)}{\\mu \\left(\\nu - 1.0\\right)}\\right)$"
      ],
      "text/plain": [
       "⎛                           -0.5            0.5                               \n",
       "⎜   8.42799327967597e-18⋅S⋅r      0.0625⋅S⋅r   ⋅(8.32421592076542e-16 - 6.9757\n",
       "⎜0, ────────────────────────────, ────────────────────────────────────────────\n",
       "⎝             ν - 1.0                                      μ⋅(ν - 1.0)        \n",
       "\n",
       "                 ⎞\n",
       "3699601726e-16⋅ν)⎟\n",
       "─────────────────⎟\n",
       "                 ⎠"
      ]
     },
     "execution_count": 26,
     "metadata": {},
     "output_type": "execute_result"
    }
   ],
   "source": [
    "((sttA_s.subs(t, w)-sttB_s.subs(t, w)).simplify().evalf(),\n",
    " (srtA_s.subs(t, w)-srtB_s.subs(t, w)).simplify().evalf(),\n",
    " (utA_s.subs(t, w)-utB_s.subs(t, w)).simplify().evalf())"
   ]
  },
  {
   "cell_type": "code",
   "execution_count": 27,
   "metadata": {
    "scrolled": true
   },
   "outputs": [
    {
     "data": {
      "image/png": "[encoded data removed]",
      "text/latex": [
       "$\\displaystyle \\frac{0.5 S r^{0.5}}{\\mu}$"
      ],
      "text/plain": [
       "       0.5\n",
       "0.5⋅S⋅r   \n",
       "──────────\n",
       "    μ     "
      ]
     },
     "execution_count": 27,
     "metadata": {},
     "output_type": "execute_result"
    }
   ],
   "source": [
    "((urA_s.subs(t, w) - urB_s.subs(t, w) - S).simplify() + S).evalf().simplify()"
   ]
  },
  {
   "cell_type": "markdown",
   "metadata": {},
   "source": [
    "Lastly, we generate Lua code for the A-side and the B-side:"
   ]
  },
  {
   "cell_type": "code",
   "execution_count": 28,
   "metadata": {},
   "outputs": [],
   "source": [
    "def lua_code_cse(var_expr_pairs):\n",
    "    vs, es = zip(*var_expr_pairs)\n",
    "    e_cse = cse(es)\n",
    "    for k, v in e_cse[0]:\n",
    "        print(\"local {} = {}\".format(k, lua_code(v)))\n",
    "    for k, v in zip(vs, e_cse[1]):\n",
    "        print(\"local {} = {}\".format(k, lua_code(v)))"
   ]
  },
  {
   "cell_type": "code",
   "execution_count": 29,
   "metadata": {},
   "outputs": [
    {
     "name": "stdout",
     "output_type": "stream",
     "text": [
      "local x0 = math.pi*((1.0/3.0)*lamda + 1.0/3.0)\n",
      "local x1 = math.sin(x0)\n",
      "local x2 = 2*x1\n",
      "local x3 = math.pi*((7.0/3.0)*lamda + 1.0/3.0)\n",
      "local x4 = math.sin(x3)\n",
      "local x5 = 2*x4\n",
      "local x6 = 3*lamda\n",
      "local x7 = math.cos(x0)\n",
      "local x8 = math.sqrt(3)*lamda\n",
      "local x9 = math.cos(x3)\n",
      "local x10 = math.pi*lamda\n",
      "local x11 = (8.0/3.0)*x10\n",
      "local x12 = math.sin(x11)\n",
      "local x13 = 2*x7\n",
      "local x14 = 2*x9\n",
      "local x15 = math.cos(x11)\n",
      "local x16 = (1.0/32.0)*S/((nu - 1)*math.sin(x10)^2)\n",
      "local B_3 = x16*(x1*x6 + x12*x13 - x12*x14 - x15*x2 + x15*x5 + x2 - x4*x6 - x5 + x7*x8 - x8*x9)\n",
      "local B_4 = x16*(-x1*x8 - x12*x2 + x12*x5 - x13*x15 + x13 + x14*x15 - x14 + x4*x8 + x6*x7 - x6*x9)\n",
      "local x0 = nu - 1\n",
      "local x1 = 1.0/x0\n",
      "local x2 = math.pi*((1.0/3.0)*lamda + 1.0/6.0)\n",
      "local x3 = (1.0/4.0)*S\n",
      "local A_3 = x1*(B_3*x0 - x3*math.cos(x2))\n",
      "local A_4 = x1*(B_4*x0 - x3*math.sin(x2))\n",
      "local x0 = 1.0/(lamda + 1)\n",
      "local x1 = 2*math.pi*lamda\n",
      "local x2 = math.cos(x1)\n",
      "local x3 = math.sin(x1)\n",
      "local A_1 = x0*(-A_3*lamda + A_3*x2 - A_4*x3)\n",
      "local A_2 = -x0*(A_3*x3 + A_4*lamda + A_4*x2)\n",
      "local x0 = lamda - 1\n",
      "local x1 = theta*x0\n",
      "local x2 = math.sin(x1)\n",
      "local x3 = math.cos(x1)\n",
      "local x4 = A_3*x2 + A_4*x3\n",
      "local x5 = lamda + 1\n",
      "local x6 = theta*x5\n",
      "local x7 = math.sin(x6)\n",
      "local x8 = math.cos(x6)\n",
      "local x9 = (1.0/2.0)*r^lamda/mu\n",
      "local x10 = A_4*x2\n",
      "local x11 = A_3*x3\n",
      "local urA = x9*(4*x4*(1 - nu) - x5*(A_1*x7 + A_2*x8 + x4))\n",
      "local utA = x9*(-A_1*x5*x8 + A_2*x5*x7 + x0*x10 - x0*x11 + (4*nu - 4)*(-x10 + x11))\n"
     ]
    }
   ],
   "source": [
    "lua_code_cse(solution.items())\n",
    "lua_code_cse(part_solution_0.items())\n",
    "lua_code_cse(part_solution_A.items())\n",
    "lua_code_cse([('urA', urA), ('utA', utA)])"
   ]
  },
  {
   "cell_type": "code",
   "execution_count": 30,
   "metadata": {},
   "outputs": [
    {
     "name": "stdout",
     "output_type": "stream",
     "text": [
      "local x0 = math.pi*((1.0/3.0)*lamda + 1.0/3.0)\n",
      "local x1 = math.sin(x0)\n",
      "local x2 = 2*x1\n",
      "local x3 = math.pi*((7.0/3.0)*lamda + 1.0/3.0)\n",
      "local x4 = math.sin(x3)\n",
      "local x5 = 2*x4\n",
      "local x6 = 3*lamda\n",
      "local x7 = math.cos(x0)\n",
      "local x8 = math.sqrt(3)*lamda\n",
      "local x9 = math.cos(x3)\n",
      "local x10 = math.pi*lamda\n",
      "local x11 = (8.0/3.0)*x10\n",
      "local x12 = math.sin(x11)\n",
      "local x13 = 2*x7\n",
      "local x14 = 2*x9\n",
      "local x15 = math.cos(x11)\n",
      "local x16 = (1.0/32.0)*S/((nu - 1)*math.sin(x10)^2)\n",
      "local B_3 = x16*(x1*x6 + x12*x13 - x12*x14 - x15*x2 + x15*x5 + x2 - x4*x6 - x5 + x7*x8 - x8*x9)\n",
      "local B_4 = x16*(-x1*x8 - x12*x2 + x12*x5 - x13*x15 + x13 + x14*x15 - x14 + x4*x8 + x6*x7 - x6*x9)\n",
      "local x0 = nu - 1\n",
      "local x1 = 1.0/x0\n",
      "local x2 = math.pi*((1.0/3.0)*lamda + 1.0/6.0)\n",
      "local x3 = (1.0/4.0)*S\n",
      "local A_3 = x1*(B_3*x0 - x3*math.cos(x2))\n",
      "local A_4 = x1*(B_4*x0 - x3*math.sin(x2))\n",
      "local B_2 = -B_4\n",
      "local B_1 = B_3*(1 - lamda)/(lamda + 1)\n",
      "local x0 = lamda - 1\n",
      "local x1 = theta*x0\n",
      "local x2 = math.sin(x1)\n",
      "local x3 = math.cos(x1)\n",
      "local x4 = B_3*x2 + B_4*x3\n",
      "local x5 = lamda + 1\n",
      "local x6 = theta*x5\n",
      "local x7 = math.sin(x6)\n",
      "local x8 = math.cos(x6)\n",
      "local x9 = (1.0/2.0)*r^lamda/mu\n",
      "local x10 = B_4*x2\n",
      "local x11 = B_3*x3\n",
      "local urB = x9*(4*x4*(1 - nu) - x5*(B_1*x7 + B_2*x8 + x4))\n",
      "local utB = x9*(-B_1*x5*x8 + B_2*x5*x7 + x0*x10 - x0*x11 + (4*nu - 4)*(-x10 + x11))\n"
     ]
    }
   ],
   "source": [
    "lua_code_cse(solution.items())\n",
    "lua_code_cse(part_solution_0.items())\n",
    "lua_code_cse(part_solution_B.items())\n",
    "lua_code_cse([('urB', urB), ('utB', utB)])"
   ]
  },
  {
   "cell_type": "code",
   "execution_count": null,
   "metadata": {},
   "outputs": [],
   "source": []
  }
 ],
 "metadata": {
  "kernelspec": {
   "display_name": "Python 3",
   "language": "python",
   "name": "python3"
  },
  "language_info": {
   "codemirror_mode": {
    "name": "ipython",
    "version": 3
   },
   "file_extension": ".py",
   "mimetype": "text/x-python",
   "name": "python",
   "nbconvert_exporter": "python",
   "pygments_lexer": "ipython3",
   "version": "3.7.3"
  }
 },
 "nbformat": 4,
 "nbformat_minor": 4
}
