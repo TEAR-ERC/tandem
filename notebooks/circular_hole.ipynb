{
 "cells": [
  {
   "cell_type": "markdown",
   "metadata": {},
   "source": [
    "# Circular hole probllem\n",
    "\n",
    "In this notebook an analytic solution for a disk-shaped hole is constructed.\n",
    "\n",
    "The domain defined as\n",
    "$$\n",
    "    \\Omega = \\{ x \\in \\mathbb{R^2} : 0 < a < |x| < A\\}\n",
    "$$\n",
    "Let\n",
    "$$\n",
    "    \\Gamma^r = \\{ x \\in \\mathbb{R^2} : |x| = r\\},\n",
    "$$\n",
    "then $\\partial\\Omega = \\Gamma^a \\cup \\Gamma^A$."
   ]
  },
  {
   "cell_type": "markdown",
   "metadata": {},
   "source": [
    "## Poisson\n",
    "\n",
    "Sought is the solution to the problem\n",
    "$$\n",
    "\\begin{aligned}\n",
    "    \\nabla^2 u = 0, & \\quad x \\in \\Omega, \\\\\n",
    "    \\frac{\\partial u}{\\partial r} = 0, & \\quad x \\in \\Gamma^a, \\\\\n",
    "    u = g, & \\quad x \\in \\Gamma^A, \\\\\n",
    "\\end{aligned}\n",
    "$$\n",
    "where the Laplacian in polar coordinates is\n",
    "$$\n",
    "    \\nabla^2 = \\frac{\\partial^2}{\\partial r^2}\n",
    "               + \\frac{1}{r}\\frac{\\partial}{\\partial r}\n",
    "               + \\frac{1}{r^2}\\frac{\\partial^2}{\\partial \\theta^2}\n",
    "$$\n",
    "and $g$ is chosen such that the solution is easy to construct :-)"
   ]
  },
  {
   "cell_type": "code",
   "execution_count": 1,
   "metadata": {},
   "outputs": [],
   "source": [
    "from sympy import *\n",
    "from util import lua_code"
   ]
  },
  {
   "cell_type": "code",
   "execution_count": 2,
   "metadata": {},
   "outputs": [],
   "source": [
    "# Laplacian in polar coordinates\n",
    "def laplacian(f):\n",
    "    return f.diff(r, 2) + f.diff(r)/r + f.diff(t, 2)/r**2"
   ]
  },
  {
   "cell_type": "markdown",
   "metadata": {},
   "source": [
    "Solution ansatz:"
   ]
  },
  {
   "cell_type": "code",
   "execution_count": 3,
   "metadata": {
    "scrolled": true
   },
   "outputs": [
    {
     "data": {
      "text/latex": [
       "$\\displaystyle \\frac{B \\sin{\\left(2 \\theta \\right)}}{r^{2}} + r^{2} \\sin{\\left(2 \\theta \\right)}$"
      ],
      "text/plain": [
       "B*sin(2*theta)/r**2 + r**2*sin(2*theta)"
      ]
     },
     "execution_count": 3,
     "metadata": {},
     "output_type": "execute_result"
    }
   ],
   "source": [
    "r, t = symbols('r theta')\n",
    "a, B = symbols('a B')\n",
    "u = r**2 * sin(2*t) + B * sin(2*t) / r**2\n",
    "u"
   ]
  },
  {
   "cell_type": "markdown",
   "metadata": {},
   "source": [
    "Check Laplacian"
   ]
  },
  {
   "cell_type": "code",
   "execution_count": 4,
   "metadata": {},
   "outputs": [
    {
     "data": {
      "text/latex": [
       "$\\displaystyle 0$"
      ],
      "text/plain": [
       "0"
      ]
     },
     "execution_count": 4,
     "metadata": {},
     "output_type": "execute_result"
    }
   ],
   "source": [
    "simplify(laplacian(u))"
   ]
  },
  {
   "cell_type": "markdown",
   "metadata": {},
   "source": [
    "Check inner circle boundary"
   ]
  },
  {
   "cell_type": "code",
   "execution_count": 5,
   "metadata": {
    "scrolled": true
   },
   "outputs": [
    {
     "data": {
      "text/latex": [
       "$\\displaystyle - \\frac{2 B \\sin{\\left(2 \\theta \\right)}}{a^{3}} + 2 a \\sin{\\left(2 \\theta \\right)}$"
      ],
      "text/plain": [
       "-2*B*sin(2*theta)/a**3 + 2*a*sin(2*theta)"
      ]
     },
     "execution_count": 5,
     "metadata": {},
     "output_type": "execute_result"
    }
   ],
   "source": [
    "u.diff(r).subs(r, a)"
   ]
  },
  {
   "cell_type": "markdown",
   "metadata": {},
   "source": [
    "Hence,"
   ]
  },
  {
   "cell_type": "code",
   "execution_count": 6,
   "metadata": {
    "scrolled": false
   },
   "outputs": [
    {
     "data": {
      "text/latex": [
       "$\\displaystyle 0$"
      ],
      "text/plain": [
       "0"
      ]
     },
     "execution_count": 6,
     "metadata": {},
     "output_type": "execute_result"
    }
   ],
   "source": [
    "u = u.subs(B, a**4)\n",
    "u.diff(r).subs(r, a)"
   ]
  },
  {
   "cell_type": "markdown",
   "metadata": {},
   "source": [
    "We set $g=u$ on the outer circle boundary."
   ]
  },
  {
   "cell_type": "markdown",
   "metadata": {},
   "source": [
    "Gradient:"
   ]
  },
  {
   "cell_type": "code",
   "execution_count": 7,
   "metadata": {},
   "outputs": [
    {
     "data": {
      "text/latex": [
       "$\\displaystyle - \\frac{2 a^{4} \\sin{\\left(3 \\theta \\right)}}{r^{3}} + 2 r \\sin{\\left(\\theta \\right)}$"
      ],
      "text/plain": [
       "-2*a**4*sin(3*theta)/r**3 + 2*r*sin(theta)"
      ]
     },
     "execution_count": 7,
     "metadata": {},
     "output_type": "execute_result"
    }
   ],
   "source": [
    "u_x = simplify(u.diff(r) * cos(t) - u.diff(t) * sin(t) / r)\n",
    "u_x"
   ]
  },
  {
   "cell_type": "code",
   "execution_count": 8,
   "metadata": {},
   "outputs": [
    {
     "data": {
      "text/latex": [
       "$\\displaystyle \\frac{2 a^{4} \\cos{\\left(3 \\theta \\right)}}{r^{3}} + 2 r \\cos{\\left(\\theta \\right)}$"
      ],
      "text/plain": [
       "2*a**4*cos(3*theta)/r**3 + 2*r*cos(theta)"
      ]
     },
     "execution_count": 8,
     "metadata": {},
     "output_type": "execute_result"
    }
   ],
   "source": [
    "u_y = simplify(u.diff(r) * sin(t) + u.diff(t) * cos(t) / r)\n",
    "u_y"
   ]
  },
  {
   "cell_type": "markdown",
   "metadata": {},
   "source": [
    "## Elasticity"
   ]
  },
  {
   "cell_type": "markdown",
   "metadata": {},
   "source": [
    "For a plane-strain problem, we assume there exists a biharmonic function $\\phi$ such that [1]\n",
    "\n",
    "\\begin{align}\n",
    "    2\\mu u_r &= -\\frac{\\partial \\phi}{\\partial r} + (1-\\nu)r\\frac{\\partial\\psi}{\\partial \\theta} \\\\\n",
    "    2\\mu u_\\theta &= -\\frac{1}{r}\\frac{\\partial \\phi}{\\partial \\theta} + (1-\\nu)r^2\\frac{\\partial\\psi}{\\partial r} \\\\\n",
    "    \\sigma_{rr} &= \\frac{1}{r}\\frac{\\partial \\phi}{\\partial r} +\n",
    "    \\frac{1}{r^2}\\frac{\\partial^2 \\phi}{\\partial \\theta^2} \\\\\n",
    "    \\sigma_{\\theta\\theta} &= \\frac{\\partial^2 \\phi}{\\partial r^2} \\\\\n",
    "    \\sigma_{r\\theta} &= -\\frac{\\partial }{\\partial r} \\left(\n",
    "      \\frac{1}{r}\\frac{\\partial \\phi}{\\partial\\theta}\n",
    "    \\right) \\\\\n",
    "\\end{align}\n",
    "where $\\mu$ is the shear modulus, $\\nu$ is Poisson's ratio, and $\\phi$ and $\\psi$ are related by\n",
    "$$\n",
    "\\nabla^2\\phi = \\frac{\\partial}{\\partial r}\\left(r\\frac{\\partial\\psi}{\\partial\\theta}\\right)\n",
    "$$\n",
    "\n",
    "Remark: Plane-stress is modelled in [1], therefore the formula are adjusted here for plane-strain.\n",
    "\n",
    "[1] \"Stress Singularites Resulting From Various Boundary Conditions in Angular Corners of Plates in Extension\", M. L. Williams, 1952, Journal of Applied Mechanics, 19 (4), pp. 526-528."
   ]
  },
  {
   "cell_type": "markdown",
   "metadata": {},
   "source": [
    "Sought is the solution to the problem\n",
    "$$\n",
    "\\begin{aligned}\n",
    "    \\sigma_{rr} = 0, & \\quad x \\in \\Gamma^a, \\\\\n",
    "    \\sigma_{r\\theta} = 0, & \\quad x \\in \\Gamma^a, \\\\\n",
    "    u_r = g_r, & \\quad x \\in \\Gamma^A, \\\\\n",
    "    u_\\theta = g_\\theta, & \\quad x \\in \\Gamma^A, \\\\\n",
    "\\end{aligned}\n",
    "$$\n",
    "for $\\phi,\\psi$ such that the equations of elasticity are satisfied."
   ]
  },
  {
   "cell_type": "markdown",
   "metadata": {},
   "source": [
    "Solution ansatz (from J.R. Barber, Elasticity, 2002):"
   ]
  },
  {
   "cell_type": "code",
   "execution_count": 9,
   "metadata": {
    "scrolled": true
   },
   "outputs": [
    {
     "data": {
      "text/latex": [
       "$\\displaystyle - \\frac{S a^{4} \\sin{\\left(2 \\theta \\right)}}{2 r^{2}} + S a^{2} \\sin{\\left(2 \\theta \\right)} - \\frac{S r^{2} \\sin{\\left(2 \\theta \\right)}}{2}$"
      ],
      "text/plain": [
       "-S*a**4*sin(2*theta)/(2*r**2) + S*a**2*sin(2*theta) - S*r**2*sin(2*theta)/2"
      ]
     },
     "execution_count": 9,
     "metadata": {},
     "output_type": "execute_result"
    }
   ],
   "source": [
    "r, t = symbols('r theta')\n",
    "a, S, mu, nu = symbols('a S mu nu')\n",
    "A = S*a**2\n",
    "B = -S*a**4/2\n",
    "phi = -S * r**2 * sin(2*t) / 2 + A * sin(2*t) + B * sin(2*t) / r**2\n",
    "phi"
   ]
  },
  {
   "cell_type": "markdown",
   "metadata": {},
   "source": [
    "Check that phi is biharmonic."
   ]
  },
  {
   "cell_type": "code",
   "execution_count": 10,
   "metadata": {
    "scrolled": true
   },
   "outputs": [
    {
     "data": {
      "text/latex": [
       "$\\displaystyle 0$"
      ],
      "text/plain": [
       "0"
      ]
     },
     "execution_count": 10,
     "metadata": {},
     "output_type": "execute_result"
    }
   ],
   "source": [
    "laplacian(simplify(laplacian(phi)))"
   ]
  },
  {
   "cell_type": "markdown",
   "metadata": {},
   "source": [
    "Compute stresses"
   ]
  },
  {
   "cell_type": "code",
   "execution_count": 11,
   "metadata": {
    "scrolled": true
   },
   "outputs": [],
   "source": [
    "srr = simplify(phi.diff(r) / r + phi.diff(t, 2) / r**2)\n",
    "stt = simplify(phi.diff(t, 2))\n",
    "srt = simplify(-(phi.diff(t) / r).diff(r))"
   ]
  },
  {
   "cell_type": "markdown",
   "metadata": {},
   "source": [
    "Check boundary condition on inner circle."
   ]
  },
  {
   "cell_type": "code",
   "execution_count": 12,
   "metadata": {
    "scrolled": true
   },
   "outputs": [
    {
     "data": {
      "text/plain": [
       "(0, 0)"
      ]
     },
     "execution_count": 12,
     "metadata": {},
     "output_type": "execute_result"
    }
   ],
   "source": [
    "(srr.subs(r, a), srt.subs(r, a))"
   ]
  },
  {
   "cell_type": "markdown",
   "metadata": {},
   "source": [
    "Find $\\psi$ from compatbility condition, disregarding integration constants."
   ]
  },
  {
   "cell_type": "code",
   "execution_count": 13,
   "metadata": {
    "scrolled": true
   },
   "outputs": [
    {
     "data": {
      "text/latex": [
       "$\\displaystyle - \\frac{2 S a^{2} \\cos{\\left(2 \\theta \\right)}}{r^{2}}$"
      ],
      "text/plain": [
       "-2*S*a**2*cos(2*theta)/r**2"
      ]
     },
     "execution_count": 13,
     "metadata": {},
     "output_type": "execute_result"
    }
   ],
   "source": [
    "psi = integrate(integrate(simplify(laplacian(phi)), r) / r, t)\n",
    "psi"
   ]
  },
  {
   "cell_type": "markdown",
   "metadata": {},
   "source": [
    "Check compatbility condition."
   ]
  },
  {
   "cell_type": "code",
   "execution_count": 14,
   "metadata": {
    "scrolled": true
   },
   "outputs": [
    {
     "data": {
      "text/latex": [
       "$\\displaystyle 0$"
      ],
      "text/plain": [
       "0"
      ]
     },
     "execution_count": 14,
     "metadata": {},
     "output_type": "execute_result"
    }
   ],
   "source": [
    "simplify((r*psi.diff(t)).diff(r) - laplacian(phi))"
   ]
  },
  {
   "cell_type": "markdown",
   "metadata": {},
   "source": [
    "Compute displacement"
   ]
  },
  {
   "cell_type": "code",
   "execution_count": 15,
   "metadata": {},
   "outputs": [],
   "source": [
    "ur = simplify(-phi.diff(r) + (1 - nu) * r * psi.diff(t)) / (2*mu)\n",
    "ut = simplify(-phi.diff(t) / r + (1 - nu) * r**2 * psi.diff(r)) / (2*mu)"
   ]
  },
  {
   "cell_type": "code",
   "execution_count": 16,
   "metadata": {},
   "outputs": [
    {
     "data": {
      "text/latex": [
       "$\\displaystyle \\frac{S \\left(- a^{4} - 4 a^{2} r^{2} \\left(\\nu - 1\\right) + r^{4}\\right) \\sin{\\left(2 \\theta \\right)}}{2 \\mu r^{3}}$"
      ],
      "text/plain": [
       "S*(-a**4 - 4*a**2*r**2*(nu - 1) + r**4)*sin(2*theta)/(2*mu*r**3)"
      ]
     },
     "execution_count": 16,
     "metadata": {},
     "output_type": "execute_result"
    }
   ],
   "source": [
    "ur"
   ]
  },
  {
   "cell_type": "code",
   "execution_count": 17,
   "metadata": {},
   "outputs": [
    {
     "data": {
      "text/plain": [
       "'(1.0/2.0)*S*(-a^4 - 4*a^2*r^2*(nu - 1) + r^4)*math.sin(2*theta)/(mu*r^3)'"
      ]
     },
     "execution_count": 17,
     "metadata": {},
     "output_type": "execute_result"
    }
   ],
   "source": [
    "lua_code(ur)"
   ]
  },
  {
   "cell_type": "code",
   "execution_count": 18,
   "metadata": {},
   "outputs": [
    {
     "data": {
      "text/latex": [
       "$\\displaystyle \\frac{S \\left(a^{4} - 4 a^{2} \\nu r^{2} + 2 a^{2} r^{2} + r^{4}\\right) \\cos{\\left(2 \\theta \\right)}}{2 \\mu r^{3}}$"
      ],
      "text/plain": [
       "S*(a**4 - 4*a**2*nu*r**2 + 2*a**2*r**2 + r**4)*cos(2*theta)/(2*mu*r**3)"
      ]
     },
     "execution_count": 18,
     "metadata": {},
     "output_type": "execute_result"
    }
   ],
   "source": [
    "ut"
   ]
  },
  {
   "cell_type": "code",
   "execution_count": 19,
   "metadata": {},
   "outputs": [
    {
     "data": {
      "text/plain": [
       "'(1.0/2.0)*S*(a^4 - 4*a^2*nu*r^2 + 2*a^2*r^2 + r^4)*math.cos(2*theta)/(mu*r^3)'"
      ]
     },
     "execution_count": 19,
     "metadata": {},
     "output_type": "execute_result"
    }
   ],
   "source": [
    "lua_code(ut)"
   ]
  },
  {
   "cell_type": "markdown",
   "metadata": {},
   "source": [
    "We set $g_r=u_r$ and $g_\\theta = u_\\theta$ on the outer circle boundary."
   ]
  },
  {
   "cell_type": "markdown",
   "metadata": {},
   "source": [
    "Compute Jacobian"
   ]
  },
  {
   "cell_type": "code",
   "execution_count": 20,
   "metadata": {},
   "outputs": [],
   "source": [
    "J = {}\n",
    "J['ur_r'] = simplify(ur.diff(r))\n",
    "J['ur_t'] = simplify(ur.diff(t))\n",
    "J['ut_r'] = simplify(ut.diff(r))\n",
    "J['ut_t'] = simplify(ut.diff(t))"
   ]
  },
  {
   "cell_type": "code",
   "execution_count": 21,
   "metadata": {},
   "outputs": [
    {
     "name": "stdout",
     "output_type": "stream",
     "text": [
      "local ur_r = (1.0/2.0)*S*(3*a^4 + 4*a^2*nu*r^2 - 4*a^2*r^2 + r^4)*math.sin(2*theta)/(mu*r^4)\n",
      "local ur_t = -S*(a^4 + 4*a^2*r^2*(nu - 1) - r^4)*math.cos(2*theta)/(mu*r^3)\n",
      "local ut_r = (1.0/2.0)*S*(-3*a^4 + 4*a^2*nu*r^2 - 2*a^2*r^2 + r^4)*math.cos(2*theta)/(mu*r^4)\n",
      "local ut_t = S*(-a^4 + 4*a^2*nu*r^2 - 2*a^2*r^2 - r^4)*math.sin(2*theta)/(mu*r^3)\n"
     ]
    }
   ],
   "source": [
    "for key, value in J.items():\n",
    "    print(f'local {key} = {lua_code(value)}')"
   ]
  },
  {
   "cell_type": "code",
   "execution_count": null,
   "metadata": {},
   "outputs": [],
   "source": []
  }
 ],
 "metadata": {
  "kernelspec": {
   "display_name": "Python 3 (ipykernel)",
   "language": "python",
   "name": "python3"
  },
  "language_info": {
   "codemirror_mode": {
    "name": "ipython",
    "version": 3
   },
   "file_extension": ".py",
   "mimetype": "text/x-python",
   "name": "python",
   "nbconvert_exporter": "python",
   "pygments_lexer": "ipython3",
   "version": "3.9.2"
  }
 },
 "nbformat": 4,
 "nbformat_minor": 4
}
